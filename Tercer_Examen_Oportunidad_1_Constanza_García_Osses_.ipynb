{
  "nbformat": 4,
  "nbformat_minor": 0,
  "metadata": {
    "colab": {
      "provenance": []
    },
    "kernelspec": {
      "name": "python3",
      "display_name": "Python 3"
    },
    "language_info": {
      "name": "python"
    }
  },
  "cells": [
    {
      "cell_type": "code",
      "execution_count": 243,
      "metadata": {
        "id": "dTmp35x0-SOh"
      },
      "outputs": [],
      "source": [
        "# Primero cargamos las librerias necesarias para este examen. Podría estar cargando mas librerias de las necesarias pero es \n",
        "# es porque ya son muchas las que ocupamos y las copio y pego de una hoja que tengo, para que nada me falte. Es mejor que sobre. \n",
        "\n",
        "import numpy as np\n",
        "import pandas as pd\n",
        "import matplotlib.pyplot as plt\n",
        "import seaborn as sns\n",
        "from sklearn.model_selection import train_test_split\n",
        "from sklearn.preprocessing import StandardScaler\n",
        "from sklearn.pipeline import make_pipeline\n",
        "from sklearn.linear_model import LinearRegression\n",
        "from sklearn.linear_model import LogisticRegression\n",
        "from sklearn.neighbors import KNeighborsClassifier\n",
        "from sklearn.ensemble import RandomForestClassifier\n",
        "from sklearn.metrics import accuracy_score, precision_score, recall_score, classification_report, ConfusionMatrixDisplay\n",
        "from sklearn.compose import make_column_selector, make_column_transformer\n",
        "from sklearn.preprocessing import LabelEncoder \n",
        "from sklearn.preprocessing import OneHotEncoder\n",
        "from sklearn.impute import SimpleImputer\n",
        "from sklearn.metrics import mean_squared_error\n",
        "from sklearn.preprocessing import LabelEncoder, StandardScaler\n",
        "from sklearn.decomposition import PCA\n",
        "from sklearn.cluster import KMeans\n",
        "from sklearn.metrics import silhouette_score\n",
        "from tensorflow.keras.models import Sequential\n",
        "from tensorflow.keras.layers import Dense\n",
        "from sklearn.compose import ColumnTransformer\n",
        "from tensorflow import keras\n",
        "from tensorflow.keras import layers\n",
        "from tensorflow.keras import regularizers\n",
        "from sklearn.metrics import recall_score"
      ]
    },
    {
      "cell_type": "code",
      "source": [
        "# Segundo, cargamos el primer archivo sobre el cual trabajaremos \n",
        "\n",
        "df = pd.read_csv(\"/content/Option_B_clustering - Option_B_clustering.csv\")"
      ],
      "metadata": {
        "id": "md9Etf32-7zt"
      },
      "execution_count": 61,
      "outputs": []
    },
    {
      "cell_type": "code",
      "source": [
        "# ***************************************************************************************************************************************************************************\n",
        "# ====================== ********** REVISION DE LA DATA ********** ====================== #\n",
        "# ***************************************************************************************************************************************************************************"
      ],
      "metadata": {
        "id": "razJAqH5DMmQ"
      },
      "execution_count": null,
      "outputs": []
    },
    {
      "cell_type": "code",
      "source": [
        "df.head()"
      ],
      "metadata": {
        "colab": {
          "base_uri": "https://localhost:8080/",
          "height": 270
        },
        "id": "ukxKRzZXAMcm",
        "outputId": "a5856104-a735-41c2-b872-5d5d51895dd8"
      },
      "execution_count": 62,
      "outputs": [
        {
          "output_type": "execute_result",
          "data": {
            "text/plain": [
              "   gender  highest_education  imd_band  age_band  num_of_prev_attempts  \\\n",
              "0       1                  2         9         2                     0   \n",
              "1       0                  2         2         1                     0   \n",
              "2       0                  3         5         1                     0   \n",
              "3       0                  1         5         0                     0   \n",
              "4       1                  2         3         0                     0   \n",
              "\n",
              "   studied_credits  disability  passed_course  assess_score_1  assess_score_2  \\\n",
              "0              240           0              1              78              85   \n",
              "1               60           0              1              70              68   \n",
              "2               60           0              1              72              71   \n",
              "3               60           0              1              69              30   \n",
              "4               60           0              1              70              65   \n",
              "\n",
              "   assess_score_3  assess_score_4  assess_score_5  \n",
              "0              80              85              82  \n",
              "1              70              64              60  \n",
              "2              74              88              75  \n",
              "3              63              35              75  \n",
              "4              62              75              68  "
            ],
            "text/html": [
              "\n",
              "  <div id=\"df-cb0d6083-e38f-4322-8f0b-c89b67185380\">\n",
              "    <div class=\"colab-df-container\">\n",
              "      <div>\n",
              "<style scoped>\n",
              "    .dataframe tbody tr th:only-of-type {\n",
              "        vertical-align: middle;\n",
              "    }\n",
              "\n",
              "    .dataframe tbody tr th {\n",
              "        vertical-align: top;\n",
              "    }\n",
              "\n",
              "    .dataframe thead th {\n",
              "        text-align: right;\n",
              "    }\n",
              "</style>\n",
              "<table border=\"1\" class=\"dataframe\">\n",
              "  <thead>\n",
              "    <tr style=\"text-align: right;\">\n",
              "      <th></th>\n",
              "      <th>gender</th>\n",
              "      <th>highest_education</th>\n",
              "      <th>imd_band</th>\n",
              "      <th>age_band</th>\n",
              "      <th>num_of_prev_attempts</th>\n",
              "      <th>studied_credits</th>\n",
              "      <th>disability</th>\n",
              "      <th>passed_course</th>\n",
              "      <th>assess_score_1</th>\n",
              "      <th>assess_score_2</th>\n",
              "      <th>assess_score_3</th>\n",
              "      <th>assess_score_4</th>\n",
              "      <th>assess_score_5</th>\n",
              "    </tr>\n",
              "  </thead>\n",
              "  <tbody>\n",
              "    <tr>\n",
              "      <th>0</th>\n",
              "      <td>1</td>\n",
              "      <td>2</td>\n",
              "      <td>9</td>\n",
              "      <td>2</td>\n",
              "      <td>0</td>\n",
              "      <td>240</td>\n",
              "      <td>0</td>\n",
              "      <td>1</td>\n",
              "      <td>78</td>\n",
              "      <td>85</td>\n",
              "      <td>80</td>\n",
              "      <td>85</td>\n",
              "      <td>82</td>\n",
              "    </tr>\n",
              "    <tr>\n",
              "      <th>1</th>\n",
              "      <td>0</td>\n",
              "      <td>2</td>\n",
              "      <td>2</td>\n",
              "      <td>1</td>\n",
              "      <td>0</td>\n",
              "      <td>60</td>\n",
              "      <td>0</td>\n",
              "      <td>1</td>\n",
              "      <td>70</td>\n",
              "      <td>68</td>\n",
              "      <td>70</td>\n",
              "      <td>64</td>\n",
              "      <td>60</td>\n",
              "    </tr>\n",
              "    <tr>\n",
              "      <th>2</th>\n",
              "      <td>0</td>\n",
              "      <td>3</td>\n",
              "      <td>5</td>\n",
              "      <td>1</td>\n",
              "      <td>0</td>\n",
              "      <td>60</td>\n",
              "      <td>0</td>\n",
              "      <td>1</td>\n",
              "      <td>72</td>\n",
              "      <td>71</td>\n",
              "      <td>74</td>\n",
              "      <td>88</td>\n",
              "      <td>75</td>\n",
              "    </tr>\n",
              "    <tr>\n",
              "      <th>3</th>\n",
              "      <td>0</td>\n",
              "      <td>1</td>\n",
              "      <td>5</td>\n",
              "      <td>0</td>\n",
              "      <td>0</td>\n",
              "      <td>60</td>\n",
              "      <td>0</td>\n",
              "      <td>1</td>\n",
              "      <td>69</td>\n",
              "      <td>30</td>\n",
              "      <td>63</td>\n",
              "      <td>35</td>\n",
              "      <td>75</td>\n",
              "    </tr>\n",
              "    <tr>\n",
              "      <th>4</th>\n",
              "      <td>1</td>\n",
              "      <td>2</td>\n",
              "      <td>3</td>\n",
              "      <td>0</td>\n",
              "      <td>0</td>\n",
              "      <td>60</td>\n",
              "      <td>0</td>\n",
              "      <td>1</td>\n",
              "      <td>70</td>\n",
              "      <td>65</td>\n",
              "      <td>62</td>\n",
              "      <td>75</td>\n",
              "      <td>68</td>\n",
              "    </tr>\n",
              "  </tbody>\n",
              "</table>\n",
              "</div>\n",
              "      <button class=\"colab-df-convert\" onclick=\"convertToInteractive('df-cb0d6083-e38f-4322-8f0b-c89b67185380')\"\n",
              "              title=\"Convert this dataframe to an interactive table.\"\n",
              "              style=\"display:none;\">\n",
              "        \n",
              "  <svg xmlns=\"http://www.w3.org/2000/svg\" height=\"24px\"viewBox=\"0 0 24 24\"\n",
              "       width=\"24px\">\n",
              "    <path d=\"M0 0h24v24H0V0z\" fill=\"none\"/>\n",
              "    <path d=\"M18.56 5.44l.94 2.06.94-2.06 2.06-.94-2.06-.94-.94-2.06-.94 2.06-2.06.94zm-11 1L8.5 8.5l.94-2.06 2.06-.94-2.06-.94L8.5 2.5l-.94 2.06-2.06.94zm10 10l.94 2.06.94-2.06 2.06-.94-2.06-.94-.94-2.06-.94 2.06-2.06.94z\"/><path d=\"M17.41 7.96l-1.37-1.37c-.4-.4-.92-.59-1.43-.59-.52 0-1.04.2-1.43.59L10.3 9.45l-7.72 7.72c-.78.78-.78 2.05 0 2.83L4 21.41c.39.39.9.59 1.41.59.51 0 1.02-.2 1.41-.59l7.78-7.78 2.81-2.81c.8-.78.8-2.07 0-2.86zM5.41 20L4 18.59l7.72-7.72 1.47 1.35L5.41 20z\"/>\n",
              "  </svg>\n",
              "      </button>\n",
              "      \n",
              "  <style>\n",
              "    .colab-df-container {\n",
              "      display:flex;\n",
              "      flex-wrap:wrap;\n",
              "      gap: 12px;\n",
              "    }\n",
              "\n",
              "    .colab-df-convert {\n",
              "      background-color: #E8F0FE;\n",
              "      border: none;\n",
              "      border-radius: 50%;\n",
              "      cursor: pointer;\n",
              "      display: none;\n",
              "      fill: #1967D2;\n",
              "      height: 32px;\n",
              "      padding: 0 0 0 0;\n",
              "      width: 32px;\n",
              "    }\n",
              "\n",
              "    .colab-df-convert:hover {\n",
              "      background-color: #E2EBFA;\n",
              "      box-shadow: 0px 1px 2px rgba(60, 64, 67, 0.3), 0px 1px 3px 1px rgba(60, 64, 67, 0.15);\n",
              "      fill: #174EA6;\n",
              "    }\n",
              "\n",
              "    [theme=dark] .colab-df-convert {\n",
              "      background-color: #3B4455;\n",
              "      fill: #D2E3FC;\n",
              "    }\n",
              "\n",
              "    [theme=dark] .colab-df-convert:hover {\n",
              "      background-color: #434B5C;\n",
              "      box-shadow: 0px 1px 3px 1px rgba(0, 0, 0, 0.15);\n",
              "      filter: drop-shadow(0px 1px 2px rgba(0, 0, 0, 0.3));\n",
              "      fill: #FFFFFF;\n",
              "    }\n",
              "  </style>\n",
              "\n",
              "      <script>\n",
              "        const buttonEl =\n",
              "          document.querySelector('#df-cb0d6083-e38f-4322-8f0b-c89b67185380 button.colab-df-convert');\n",
              "        buttonEl.style.display =\n",
              "          google.colab.kernel.accessAllowed ? 'block' : 'none';\n",
              "\n",
              "        async function convertToInteractive(key) {\n",
              "          const element = document.querySelector('#df-cb0d6083-e38f-4322-8f0b-c89b67185380');\n",
              "          const dataTable =\n",
              "            await google.colab.kernel.invokeFunction('convertToInteractive',\n",
              "                                                     [key], {});\n",
              "          if (!dataTable) return;\n",
              "\n",
              "          const docLinkHtml = 'Like what you see? Visit the ' +\n",
              "            '<a target=\"_blank\" href=https://colab.research.google.com/notebooks/data_table.ipynb>data table notebook</a>'\n",
              "            + ' to learn more about interactive tables.';\n",
              "          element.innerHTML = '';\n",
              "          dataTable['output_type'] = 'display_data';\n",
              "          await google.colab.output.renderOutput(dataTable, element);\n",
              "          const docLink = document.createElement('div');\n",
              "          docLink.innerHTML = docLinkHtml;\n",
              "          element.appendChild(docLink);\n",
              "        }\n",
              "      </script>\n",
              "    </div>\n",
              "  </div>\n",
              "  "
            ]
          },
          "metadata": {},
          "execution_count": 62
        }
      ]
    },
    {
      "cell_type": "code",
      "source": [
        "# Con esto podemos observar que estamos trabajando con columnas numericas, no veo ninguna categorica. "
      ],
      "metadata": {
        "id": "4CUgTbyyAWR3"
      },
      "execution_count": null,
      "outputs": []
    },
    {
      "cell_type": "code",
      "source": [
        "df.shape"
      ],
      "metadata": {
        "colab": {
          "base_uri": "https://localhost:8080/"
        },
        "id": "O1BSTHo_ASXB",
        "outputId": "f3ca374e-8c88-4122-c669-446ce5344bd3"
      },
      "execution_count": 63,
      "outputs": [
        {
          "output_type": "execute_result",
          "data": {
            "text/plain": [
              "(12737, 13)"
            ]
          },
          "metadata": {},
          "execution_count": 63
        }
      ]
    },
    {
      "cell_type": "code",
      "source": [
        "# Tenemos 13 columnas y 12.737 filas. Es una base de datos grande. "
      ],
      "metadata": {
        "id": "dIYWv3ukAcku"
      },
      "execution_count": null,
      "outputs": []
    },
    {
      "cell_type": "code",
      "source": [
        "df.info()"
      ],
      "metadata": {
        "colab": {
          "base_uri": "https://localhost:8080/"
        },
        "id": "lbRh2y9-AiWY",
        "outputId": "e18ad8af-d651-4ae4-8974-34547f2b50e5"
      },
      "execution_count": 16,
      "outputs": [
        {
          "output_type": "stream",
          "name": "stdout",
          "text": [
            "<class 'pandas.core.frame.DataFrame'>\n",
            "RangeIndex: 12737 entries, 0 to 12736\n",
            "Data columns (total 13 columns):\n",
            " #   Column                Non-Null Count  Dtype\n",
            "---  ------                --------------  -----\n",
            " 0   gender                12737 non-null  int64\n",
            " 1   highest_education     12737 non-null  int64\n",
            " 2   imd_band              12737 non-null  int64\n",
            " 3   age_band              12737 non-null  int64\n",
            " 4   num_of_prev_attempts  12737 non-null  int64\n",
            " 5   studied_credits       12737 non-null  int64\n",
            " 6   disability            12737 non-null  int64\n",
            " 7   passed_course         12737 non-null  int64\n",
            " 8   assess_score_1        12737 non-null  int64\n",
            " 9   assess_score_2        12737 non-null  int64\n",
            " 10  assess_score_3        12737 non-null  int64\n",
            " 11  assess_score_4        12737 non-null  int64\n",
            " 12  assess_score_5        12737 non-null  int64\n",
            "dtypes: int64(13)\n",
            "memory usage: 1.3 MB\n"
          ]
        }
      ]
    },
    {
      "cell_type": "code",
      "source": [
        "# De aqui podemos extraer harta informacion. \n",
        "\n",
        "# 1) No hay missing values o NaN. Todas las columnas presentan 12.737 datos. \n",
        "# 2) Como se menciono anteriormente, todas las columnas son de tipo numericas (y más encima estamos trabajando con puros numeros enteros).\n",
        "# 3) Confirmamos que hay 13 columnas. Es necesario mencionar que como no tenemos un diccionario sobre el cual trabajar y analizar mejor las columnas, \n",
        "# vamos a suponer que no hay columnas que se dupliquen o columnas que sean innecesarias. (No se qué significa assess score 1, 2, 3, 4 y 5).\n",
        "# 4) Hay columnas que son numericas que podrían entregar mayor informacion si fueran categoricas, como por ejemplo Gender. ¿Qué es 1? ¿Qué es 0? \n",
        "# Podríamos realizar un supuesto de que 1 es hombre y 0 mujer. Iremos viendo si es necesario a medida que trabajamos sobre el examen.\n",
        "# 5) Como no tenemos diccionario de datos, nos costaria mucho mas entender cuando hay datos que no corresponden a las columnas... por ejemplo\n",
        "# en highest_education, si tenemos un 5, no sabremos si es correcto o no. De todas formas revisaremos las columnas y aplicaremos criterio. "
      ],
      "metadata": {
        "id": "uQFOF1GtAloG"
      },
      "execution_count": null,
      "outputs": []
    },
    {
      "cell_type": "code",
      "source": [
        "# Veremos si hay duplicados \n",
        "\n",
        "df.duplicated().sum()"
      ],
      "metadata": {
        "colab": {
          "base_uri": "https://localhost:8080/"
        },
        "id": "9tbp1sJtBxta",
        "outputId": "00c8d118-bf48-47c8-dab9-ce6a133d3902"
      },
      "execution_count": 64,
      "outputs": [
        {
          "output_type": "execute_result",
          "data": {
            "text/plain": [
              "7"
            ]
          },
          "metadata": {},
          "execution_count": 64
        }
      ]
    },
    {
      "cell_type": "code",
      "source": [
        "# Tenemos 7 columnas duplicadas las cuales eliminaremos. No son necesarias. \n",
        "\n",
        "df = df.drop_duplicates()"
      ],
      "metadata": {
        "id": "eREKLQjOB3Bw"
      },
      "execution_count": 65,
      "outputs": []
    },
    {
      "cell_type": "code",
      "source": [
        "# Confirmamos que se eliminaron\n",
        "\n",
        "df.duplicated().sum()"
      ],
      "metadata": {
        "colab": {
          "base_uri": "https://localhost:8080/"
        },
        "id": "C5Z2iKysCEaA",
        "outputId": "2f99e56f-9857-4728-ad91-0d3ca9e64d8d"
      },
      "execution_count": 66,
      "outputs": [
        {
          "output_type": "execute_result",
          "data": {
            "text/plain": [
              "0"
            ]
          },
          "metadata": {},
          "execution_count": 66
        }
      ]
    },
    {
      "cell_type": "code",
      "source": [
        "# Vemos ahora sobre cuantas filas estamos trabajando \n",
        "\n",
        "df.shape"
      ],
      "metadata": {
        "colab": {
          "base_uri": "https://localhost:8080/"
        },
        "id": "oDvrn80ECImN",
        "outputId": "467cc9a5-f4a4-4eab-ee5d-4c46e98b6d2f"
      },
      "execution_count": 67,
      "outputs": [
        {
          "output_type": "execute_result",
          "data": {
            "text/plain": [
              "(12730, 13)"
            ]
          },
          "metadata": {},
          "execution_count": 67
        }
      ]
    },
    {
      "cell_type": "code",
      "source": [
        "# Efectivamente se eliminaron solo 7 filas, por lo que ahora nuestra base de datos cuenta con 12.730 filas. "
      ],
      "metadata": {
        "id": "PJQ_E1GFCNeL"
      },
      "execution_count": null,
      "outputs": []
    },
    {
      "cell_type": "code",
      "source": [
        "# Revisaremos ahora las columnas para ver si hay algun dato extraño que pueda parecer un error."
      ],
      "metadata": {
        "id": "9KrR7am9CyKC"
      },
      "execution_count": null,
      "outputs": []
    },
    {
      "cell_type": "code",
      "source": [
        "df.info()"
      ],
      "metadata": {
        "colab": {
          "base_uri": "https://localhost:8080/"
        },
        "id": "fBp2gLEfDvl0",
        "outputId": "944a2c40-a43b-42eb-b384-fbc98b105df0"
      },
      "execution_count": 68,
      "outputs": [
        {
          "output_type": "stream",
          "name": "stdout",
          "text": [
            "<class 'pandas.core.frame.DataFrame'>\n",
            "Int64Index: 12730 entries, 0 to 12736\n",
            "Data columns (total 13 columns):\n",
            " #   Column                Non-Null Count  Dtype\n",
            "---  ------                --------------  -----\n",
            " 0   gender                12730 non-null  int64\n",
            " 1   highest_education     12730 non-null  int64\n",
            " 2   imd_band              12730 non-null  int64\n",
            " 3   age_band              12730 non-null  int64\n",
            " 4   num_of_prev_attempts  12730 non-null  int64\n",
            " 5   studied_credits       12730 non-null  int64\n",
            " 6   disability            12730 non-null  int64\n",
            " 7   passed_course         12730 non-null  int64\n",
            " 8   assess_score_1        12730 non-null  int64\n",
            " 9   assess_score_2        12730 non-null  int64\n",
            " 10  assess_score_3        12730 non-null  int64\n",
            " 11  assess_score_4        12730 non-null  int64\n",
            " 12  assess_score_5        12730 non-null  int64\n",
            "dtypes: int64(13)\n",
            "memory usage: 1.4 MB\n"
          ]
        }
      ]
    },
    {
      "cell_type": "code",
      "source": [
        "df[\"gender\"].value_counts() "
      ],
      "metadata": {
        "colab": {
          "base_uri": "https://localhost:8080/"
        },
        "id": "f7TfrW8rD0oM",
        "outputId": "c89dfee1-7c61-4bed-8a1e-01e46fbf73fd"
      },
      "execution_count": 23,
      "outputs": [
        {
          "output_type": "execute_result",
          "data": {
            "text/plain": [
              "0    7042\n",
              "1    5688\n",
              "Name: gender, dtype: int64"
            ]
          },
          "metadata": {},
          "execution_count": 23
        }
      ]
    },
    {
      "cell_type": "code",
      "source": [
        "# Solo dos numeros: 0 y 1, acorde con los dos unicos sexos que existen de manera biologica, hombre y mujer. "
      ],
      "metadata": {
        "id": "9On7AbqkEElT"
      },
      "execution_count": null,
      "outputs": []
    },
    {
      "cell_type": "code",
      "source": [
        "df[\"highest_education\"].value_counts()"
      ],
      "metadata": {
        "colab": {
          "base_uri": "https://localhost:8080/"
        },
        "id": "C9D_JH6cEO7y",
        "outputId": "38c7cdc1-c91d-4538-c78c-5fc964e48576"
      },
      "execution_count": 24,
      "outputs": [
        {
          "output_type": "execute_result",
          "data": {
            "text/plain": [
              "3    5916\n",
              "1    4737\n",
              "2    1897\n",
              "0      98\n",
              "4      82\n",
              "Name: highest_education, dtype: int64"
            ]
          },
          "metadata": {},
          "execution_count": 24
        }
      ]
    },
    {
      "cell_type": "code",
      "source": [
        "# Podemos observar que tenemos 5 niveles de educacion. Los extremos 0 y 4 son los que menos cantidad de personas tienen, mientras que la masa se \n",
        "# concentra en los niveles de educacion 1 y 3. "
      ],
      "metadata": {
        "id": "8QsXUAu9EXkF"
      },
      "execution_count": null,
      "outputs": []
    },
    {
      "cell_type": "code",
      "source": [
        "df[\"imd_band\"].value_counts()"
      ],
      "metadata": {
        "colab": {
          "base_uri": "https://localhost:8080/"
        },
        "id": "k9UoWcP-Eij4",
        "outputId": "54c1ec43-8d28-46b4-8075-4e0eaec7e638"
      },
      "execution_count": 25,
      "outputs": [
        {
          "output_type": "execute_result",
          "data": {
            "text/plain": [
              "3    1486\n",
              "2    1338\n",
              "5    1317\n",
              "1    1300\n",
              "4    1285\n",
              "7    1259\n",
              "6    1246\n",
              "0    1184\n",
              "8    1181\n",
              "9    1134\n",
              "Name: imd_band, dtype: int64"
            ]
          },
          "metadata": {},
          "execution_count": 25
        }
      ]
    },
    {
      "cell_type": "code",
      "source": [
        "# El indice de privacion economica posee 10 niveles (de 0 a 9) y por lo que se puede apreciar se distribuye de manera muy homogenea \n",
        "# en la muestra que estamos estudiando. "
      ],
      "metadata": {
        "id": "qTlX-GpjEufp"
      },
      "execution_count": null,
      "outputs": []
    },
    {
      "cell_type": "code",
      "source": [
        "df[\"age_band\"].value_counts()"
      ],
      "metadata": {
        "colab": {
          "base_uri": "https://localhost:8080/"
        },
        "id": "QUZAvplYE8J0",
        "outputId": "86f3df1d-dc74-41b9-c7d2-7a6d677c1c2a"
      },
      "execution_count": 26,
      "outputs": [
        {
          "output_type": "execute_result",
          "data": {
            "text/plain": [
              "0    8507\n",
              "1    4128\n",
              "2      95\n",
              "Name: age_band, dtype: int64"
            ]
          },
          "metadata": {},
          "execution_count": 26
        }
      ]
    },
    {
      "cell_type": "code",
      "source": [
        "df[\"age_band\"].describe()"
      ],
      "metadata": {
        "colab": {
          "base_uri": "https://localhost:8080/"
        },
        "id": "G07NMQBOFR5f",
        "outputId": "9877247d-de4d-4b23-8264-20da6753025d"
      },
      "execution_count": 29,
      "outputs": [
        {
          "output_type": "execute_result",
          "data": {
            "text/plain": [
              "count    12730.000000\n",
              "mean         0.339199\n",
              "std          0.488965\n",
              "min          0.000000\n",
              "25%          0.000000\n",
              "50%          0.000000\n",
              "75%          1.000000\n",
              "max          2.000000\n",
              "Name: age_band, dtype: float64"
            ]
          },
          "metadata": {},
          "execution_count": 29
        }
      ]
    },
    {
      "cell_type": "code",
      "source": [
        "# No entiendo bien que significa esta columna, pero supondremos que no hay nada de malo en ella. "
      ],
      "metadata": {
        "id": "R4WGbt0yFHb6"
      },
      "execution_count": null,
      "outputs": []
    },
    {
      "cell_type": "code",
      "source": [
        "df[\"num_of_prev_attempts\"].value_counts()"
      ],
      "metadata": {
        "colab": {
          "base_uri": "https://localhost:8080/"
        },
        "id": "ts9nK9FqFXSq",
        "outputId": "210ae582-8a87-4bee-df56-606d4f5b835c"
      },
      "execution_count": 30,
      "outputs": [
        {
          "output_type": "execute_result",
          "data": {
            "text/plain": [
              "0    11634\n",
              "1      886\n",
              "2      165\n",
              "3       33\n",
              "4        8\n",
              "5        3\n",
              "6        1\n",
              "Name: num_of_prev_attempts, dtype: int64"
            ]
          },
          "metadata": {},
          "execution_count": 30
        }
      ]
    },
    {
      "cell_type": "code",
      "source": [
        "df[\"num_of_prev_attempts\"].describe()"
      ],
      "metadata": {
        "colab": {
          "base_uri": "https://localhost:8080/"
        },
        "id": "4EF-LjSUF6VC",
        "outputId": "a4ea7810-f985-4767-ed49-f7ff9200a117"
      },
      "execution_count": 31,
      "outputs": [
        {
          "output_type": "execute_result",
          "data": {
            "text/plain": [
              "count    12730.000000\n",
              "mean         0.107463\n",
              "std          0.389890\n",
              "min          0.000000\n",
              "25%          0.000000\n",
              "50%          0.000000\n",
              "75%          0.000000\n",
              "max          6.000000\n",
              "Name: num_of_prev_attempts, dtype: float64"
            ]
          },
          "metadata": {},
          "execution_count": 31
        }
      ]
    },
    {
      "cell_type": "code",
      "source": [
        "# No entiendo bien que significa esta columna, pero supondremos que no hay nada de malo en ella. "
      ],
      "metadata": {
        "id": "ZJMr1tSVF_ND"
      },
      "execution_count": null,
      "outputs": []
    },
    {
      "cell_type": "code",
      "source": [
        "df[\"studied_credits\"].describe()"
      ],
      "metadata": {
        "colab": {
          "base_uri": "https://localhost:8080/"
        },
        "id": "0FKuStMQGCqD",
        "outputId": "01944dcd-2352-411d-e45c-2622078a98b7"
      },
      "execution_count": 33,
      "outputs": [
        {
          "output_type": "execute_result",
          "data": {
            "text/plain": [
              "count    12730.000000\n",
              "mean        74.773763\n",
              "std         37.459380\n",
              "min         30.000000\n",
              "25%         60.000000\n",
              "50%         60.000000\n",
              "75%         90.000000\n",
              "max        630.000000\n",
              "Name: studied_credits, dtype: float64"
            ]
          },
          "metadata": {},
          "execution_count": 33
        }
      ]
    },
    {
      "cell_type": "code",
      "source": [
        "# Uno podría pensar que esta columna significa creditos estudiados (creditos es una forma de decir en la universidad como las \n",
        "# horas invertidas en el ramo, curso o año de estudio). Me parece algo exagerado 630 creditos estudiados. Uno podría pensar que se le pasó el 0. \n",
        "# Veamos ese dato mas de cerca. "
      ],
      "metadata": {
        "id": "ISRY49bXGHSL"
      },
      "execution_count": null,
      "outputs": []
    },
    {
      "cell_type": "code",
      "source": [
        "df.loc[(df['studied_credits'] == 630)]"
      ],
      "metadata": {
        "colab": {
          "base_uri": "https://localhost:8080/",
          "height": 145
        },
        "id": "8hO42_pYGg07",
        "outputId": "696b0524-055f-4ee2-aba0-eb7715139441"
      },
      "execution_count": 35,
      "outputs": [
        {
          "output_type": "execute_result",
          "data": {
            "text/plain": [
              "      gender  highest_education  imd_band  age_band  num_of_prev_attempts  \\\n",
              "5124       0                  3         9         1                     0   \n",
              "\n",
              "      studied_credits  disability  passed_course  assess_score_1  \\\n",
              "5124              630           1              1             100   \n",
              "\n",
              "      assess_score_2  assess_score_3  assess_score_4  assess_score_5  \n",
              "5124              92              94              91              92  "
            ],
            "text/html": [
              "\n",
              "  <div id=\"df-7629a1cd-ae5a-4182-8377-0d40353add2d\">\n",
              "    <div class=\"colab-df-container\">\n",
              "      <div>\n",
              "<style scoped>\n",
              "    .dataframe tbody tr th:only-of-type {\n",
              "        vertical-align: middle;\n",
              "    }\n",
              "\n",
              "    .dataframe tbody tr th {\n",
              "        vertical-align: top;\n",
              "    }\n",
              "\n",
              "    .dataframe thead th {\n",
              "        text-align: right;\n",
              "    }\n",
              "</style>\n",
              "<table border=\"1\" class=\"dataframe\">\n",
              "  <thead>\n",
              "    <tr style=\"text-align: right;\">\n",
              "      <th></th>\n",
              "      <th>gender</th>\n",
              "      <th>highest_education</th>\n",
              "      <th>imd_band</th>\n",
              "      <th>age_band</th>\n",
              "      <th>num_of_prev_attempts</th>\n",
              "      <th>studied_credits</th>\n",
              "      <th>disability</th>\n",
              "      <th>passed_course</th>\n",
              "      <th>assess_score_1</th>\n",
              "      <th>assess_score_2</th>\n",
              "      <th>assess_score_3</th>\n",
              "      <th>assess_score_4</th>\n",
              "      <th>assess_score_5</th>\n",
              "    </tr>\n",
              "  </thead>\n",
              "  <tbody>\n",
              "    <tr>\n",
              "      <th>5124</th>\n",
              "      <td>0</td>\n",
              "      <td>3</td>\n",
              "      <td>9</td>\n",
              "      <td>1</td>\n",
              "      <td>0</td>\n",
              "      <td>630</td>\n",
              "      <td>1</td>\n",
              "      <td>1</td>\n",
              "      <td>100</td>\n",
              "      <td>92</td>\n",
              "      <td>94</td>\n",
              "      <td>91</td>\n",
              "      <td>92</td>\n",
              "    </tr>\n",
              "  </tbody>\n",
              "</table>\n",
              "</div>\n",
              "      <button class=\"colab-df-convert\" onclick=\"convertToInteractive('df-7629a1cd-ae5a-4182-8377-0d40353add2d')\"\n",
              "              title=\"Convert this dataframe to an interactive table.\"\n",
              "              style=\"display:none;\">\n",
              "        \n",
              "  <svg xmlns=\"http://www.w3.org/2000/svg\" height=\"24px\"viewBox=\"0 0 24 24\"\n",
              "       width=\"24px\">\n",
              "    <path d=\"M0 0h24v24H0V0z\" fill=\"none\"/>\n",
              "    <path d=\"M18.56 5.44l.94 2.06.94-2.06 2.06-.94-2.06-.94-.94-2.06-.94 2.06-2.06.94zm-11 1L8.5 8.5l.94-2.06 2.06-.94-2.06-.94L8.5 2.5l-.94 2.06-2.06.94zm10 10l.94 2.06.94-2.06 2.06-.94-2.06-.94-.94-2.06-.94 2.06-2.06.94z\"/><path d=\"M17.41 7.96l-1.37-1.37c-.4-.4-.92-.59-1.43-.59-.52 0-1.04.2-1.43.59L10.3 9.45l-7.72 7.72c-.78.78-.78 2.05 0 2.83L4 21.41c.39.39.9.59 1.41.59.51 0 1.02-.2 1.41-.59l7.78-7.78 2.81-2.81c.8-.78.8-2.07 0-2.86zM5.41 20L4 18.59l7.72-7.72 1.47 1.35L5.41 20z\"/>\n",
              "  </svg>\n",
              "      </button>\n",
              "      \n",
              "  <style>\n",
              "    .colab-df-container {\n",
              "      display:flex;\n",
              "      flex-wrap:wrap;\n",
              "      gap: 12px;\n",
              "    }\n",
              "\n",
              "    .colab-df-convert {\n",
              "      background-color: #E8F0FE;\n",
              "      border: none;\n",
              "      border-radius: 50%;\n",
              "      cursor: pointer;\n",
              "      display: none;\n",
              "      fill: #1967D2;\n",
              "      height: 32px;\n",
              "      padding: 0 0 0 0;\n",
              "      width: 32px;\n",
              "    }\n",
              "\n",
              "    .colab-df-convert:hover {\n",
              "      background-color: #E2EBFA;\n",
              "      box-shadow: 0px 1px 2px rgba(60, 64, 67, 0.3), 0px 1px 3px 1px rgba(60, 64, 67, 0.15);\n",
              "      fill: #174EA6;\n",
              "    }\n",
              "\n",
              "    [theme=dark] .colab-df-convert {\n",
              "      background-color: #3B4455;\n",
              "      fill: #D2E3FC;\n",
              "    }\n",
              "\n",
              "    [theme=dark] .colab-df-convert:hover {\n",
              "      background-color: #434B5C;\n",
              "      box-shadow: 0px 1px 3px 1px rgba(0, 0, 0, 0.15);\n",
              "      filter: drop-shadow(0px 1px 2px rgba(0, 0, 0, 0.3));\n",
              "      fill: #FFFFFF;\n",
              "    }\n",
              "  </style>\n",
              "\n",
              "      <script>\n",
              "        const buttonEl =\n",
              "          document.querySelector('#df-7629a1cd-ae5a-4182-8377-0d40353add2d button.colab-df-convert');\n",
              "        buttonEl.style.display =\n",
              "          google.colab.kernel.accessAllowed ? 'block' : 'none';\n",
              "\n",
              "        async function convertToInteractive(key) {\n",
              "          const element = document.querySelector('#df-7629a1cd-ae5a-4182-8377-0d40353add2d');\n",
              "          const dataTable =\n",
              "            await google.colab.kernel.invokeFunction('convertToInteractive',\n",
              "                                                     [key], {});\n",
              "          if (!dataTable) return;\n",
              "\n",
              "          const docLinkHtml = 'Like what you see? Visit the ' +\n",
              "            '<a target=\"_blank\" href=https://colab.research.google.com/notebooks/data_table.ipynb>data table notebook</a>'\n",
              "            + ' to learn more about interactive tables.';\n",
              "          element.innerHTML = '';\n",
              "          dataTable['output_type'] = 'display_data';\n",
              "          await google.colab.output.renderOutput(dataTable, element);\n",
              "          const docLink = document.createElement('div');\n",
              "          docLink.innerHTML = docLinkHtml;\n",
              "          element.appendChild(docLink);\n",
              "        }\n",
              "      </script>\n",
              "    </div>\n",
              "  </div>\n",
              "  "
            ]
          },
          "metadata": {},
          "execution_count": 35
        }
      ]
    },
    {
      "cell_type": "code",
      "source": [
        "# Esta persona, pertenece al grupo 3 de highest education. Supondremos que el grupo 0 es el que tiene menos educacion y el grupo 4 es el que tiene \n",
        "# mas educacion. Esta persona que invirtio 630 creditos estudiados, no pertenece al nivel mas alto de educacion, sino que al segundo mas alto. Su IMB \n",
        "# es de nivel 9, o sea que es del grupo socioeconomico con menos privaciones, lo cual concuerda (suele suceder que las personas con menores privaciones \n",
        "# socioeconomicas, son las que obtienen mayores grados de educacion)."
      ],
      "metadata": {
        "id": "fb1e82lzG2DJ"
      },
      "execution_count": null,
      "outputs": []
    },
    {
      "cell_type": "code",
      "source": [
        "df[\"studied_credits\"].value_counts(ascending=False)"
      ],
      "metadata": {
        "id": "R_eiL3KKHasC"
      },
      "execution_count": null,
      "outputs": []
    },
    {
      "cell_type": "code",
      "source": [
        "# Y antes de los 630 creditos estudiados, estan los 430. Supondremos que esta bien, será un dato atipico, pero real (perfectamente podría ser yo jajaja)."
      ],
      "metadata": {
        "id": "uBikc738HoVs"
      },
      "execution_count": null,
      "outputs": []
    },
    {
      "cell_type": "code",
      "source": [
        "df[\"disability\"].value_counts()"
      ],
      "metadata": {
        "colab": {
          "base_uri": "https://localhost:8080/"
        },
        "id": "jEkYEkxHH4Dr",
        "outputId": "64ce115d-ace1-4ccc-eb7e-37de966b5c91"
      },
      "execution_count": 37,
      "outputs": [
        {
          "output_type": "execute_result",
          "data": {
            "text/plain": [
              "0    11560\n",
              "1     1170\n",
              "Name: disability, dtype: int64"
            ]
          },
          "metadata": {},
          "execution_count": 37
        }
      ]
    },
    {
      "cell_type": "code",
      "source": [
        "df[\"disability\"].describe()"
      ],
      "metadata": {
        "colab": {
          "base_uri": "https://localhost:8080/"
        },
        "id": "aTI-sc12H_0Y",
        "outputId": "3a37a38b-0115-4ffd-b889-18fb9368cfbc"
      },
      "execution_count": 38,
      "outputs": [
        {
          "output_type": "execute_result",
          "data": {
            "text/plain": [
              "count    12730.000000\n",
              "mean         0.091909\n",
              "std          0.288909\n",
              "min          0.000000\n",
              "25%          0.000000\n",
              "50%          0.000000\n",
              "75%          0.000000\n",
              "max          1.000000\n",
              "Name: disability, dtype: float64"
            ]
          },
          "metadata": {},
          "execution_count": 38
        }
      ]
    },
    {
      "cell_type": "code",
      "source": [
        "# Tenemos esta columna (discapacidad) con dos valores posibles (acorde al titulo). La persona es o no es discapacitada (0 o 1). esta\n",
        "# columna se ve okey por lo que seguiremos. "
      ],
      "metadata": {
        "id": "nlPwYqVYH9V_"
      },
      "execution_count": null,
      "outputs": []
    },
    {
      "cell_type": "code",
      "source": [
        "df[\"passed_course\"].value_counts()"
      ],
      "metadata": {
        "colab": {
          "base_uri": "https://localhost:8080/"
        },
        "id": "kNyoRbFVIFpM",
        "outputId": "0274aeef-fb51-44da-e2e3-ac18755f2153"
      },
      "execution_count": 39,
      "outputs": [
        {
          "output_type": "execute_result",
          "data": {
            "text/plain": [
              "1    9713\n",
              "0    3017\n",
              "Name: passed_course, dtype: int64"
            ]
          },
          "metadata": {},
          "execution_count": 39
        }
      ]
    },
    {
      "cell_type": "code",
      "source": [
        "# Al igual que en la anterior, la persona pasó o no pasó de curso. Lo cual tiene solo dos posibles resultados 0 o 1. "
      ],
      "metadata": {
        "id": "bqMtHOGaIa9O"
      },
      "execution_count": null,
      "outputs": []
    },
    {
      "cell_type": "code",
      "source": [
        "# Las siguientes columnas las trataré como una sola dado que, por el titulo que poseen, puedo intuir que significan lo mismo solo que \n",
        "# la muestra esta agrupada. Por ejemplo, clasificada segun el puntaje que poseen como alumno. Puedo intuir tambien que \n",
        "# mientras mas puntaje, mejor le fue al alumno (o mejor es su situacion). Estos grupos pueden estar creados por varios factores en comun, \n",
        "# pero creo que el mas \"justo\" es por indice de privacion economica (entiendo que de este grupo son 10 pero podrian haberlo agrupado en 2)."
      ],
      "metadata": {
        "id": "2P7Lm1BAIzHB"
      },
      "execution_count": null,
      "outputs": []
    },
    {
      "cell_type": "code",
      "source": [
        "df[\"assess_score_1\"].describe()"
      ],
      "metadata": {
        "colab": {
          "base_uri": "https://localhost:8080/"
        },
        "id": "ORPzbcASIiCW",
        "outputId": "cd8ccaac-b9a3-4d6c-b971-46cb9ab618fb"
      },
      "execution_count": 42,
      "outputs": [
        {
          "output_type": "execute_result",
          "data": {
            "text/plain": [
              "count    12730.000000\n",
              "mean        73.987274\n",
              "std         19.166495\n",
              "min          0.000000\n",
              "25%         66.000000\n",
              "50%         77.000000\n",
              "75%         86.000000\n",
              "max        100.000000\n",
              "Name: assess_score_1, dtype: float64"
            ]
          },
          "metadata": {},
          "execution_count": 42
        }
      ]
    },
    {
      "cell_type": "code",
      "source": [
        "df[\"assess_score_2\"].describe()"
      ],
      "metadata": {
        "colab": {
          "base_uri": "https://localhost:8080/"
        },
        "id": "wqv0CPitIqXJ",
        "outputId": "2229dc77-ca78-44dd-d7fe-bdf2ba4e519b"
      },
      "execution_count": 43,
      "outputs": [
        {
          "output_type": "execute_result",
          "data": {
            "text/plain": [
              "count    12730.000000\n",
              "mean        74.915240\n",
              "std         14.654117\n",
              "min          0.000000\n",
              "25%         66.000000\n",
              "50%         76.000000\n",
              "75%         86.000000\n",
              "max        100.000000\n",
              "Name: assess_score_2, dtype: float64"
            ]
          },
          "metadata": {},
          "execution_count": 43
        }
      ]
    },
    {
      "cell_type": "code",
      "source": [
        "df[\"assess_score_3\"].describe()"
      ],
      "metadata": {
        "colab": {
          "base_uri": "https://localhost:8080/"
        },
        "id": "J6vHtJUDIrv8",
        "outputId": "d1fcb12f-cdc6-494d-fcb9-8f24eeff101d"
      },
      "execution_count": 44,
      "outputs": [
        {
          "output_type": "execute_result",
          "data": {
            "text/plain": [
              "count    12730.000000\n",
              "mean        79.734328\n",
              "std         17.653542\n",
              "min          0.000000\n",
              "25%         69.000000\n",
              "50%         81.000000\n",
              "75%         95.000000\n",
              "max        100.000000\n",
              "Name: assess_score_3, dtype: float64"
            ]
          },
          "metadata": {},
          "execution_count": 44
        }
      ]
    },
    {
      "cell_type": "code",
      "source": [
        "df[\"assess_score_4\"].describe()"
      ],
      "metadata": {
        "colab": {
          "base_uri": "https://localhost:8080/"
        },
        "id": "xoOReSd2IsKf",
        "outputId": "b3e0aff8-df6f-4656-c527-e66f04ed0706"
      },
      "execution_count": 45,
      "outputs": [
        {
          "output_type": "execute_result",
          "data": {
            "text/plain": [
              "count    12730.000000\n",
              "mean        75.661822\n",
              "std         17.967908\n",
              "min          0.000000\n",
              "25%         65.000000\n",
              "50%         79.000000\n",
              "75%         89.000000\n",
              "max        100.000000\n",
              "Name: assess_score_4, dtype: float64"
            ]
          },
          "metadata": {},
          "execution_count": 45
        }
      ]
    },
    {
      "cell_type": "code",
      "source": [
        "df[\"assess_score_5\"].describe()"
      ],
      "metadata": {
        "colab": {
          "base_uri": "https://localhost:8080/"
        },
        "id": "ufi--RfvItRo",
        "outputId": "69253ba2-2d54-4def-bb67-9a46efa0bc5e"
      },
      "execution_count": 46,
      "outputs": [
        {
          "output_type": "execute_result",
          "data": {
            "text/plain": [
              "count    12730.000000\n",
              "mean        78.106127\n",
              "std         19.529946\n",
              "min          0.000000\n",
              "25%         67.000000\n",
              "50%         80.000000\n",
              "75%         96.000000\n",
              "max        100.000000\n",
              "Name: assess_score_5, dtype: float64"
            ]
          },
          "metadata": {},
          "execution_count": 46
        }
      ]
    },
    {
      "cell_type": "code",
      "source": [
        "# Todos tienen alrededor de los mismos datos numericos, no hay ninguno que muestre algo muy exagerado, por lo que intuiremos que esta todo bien. "
      ],
      "metadata": {
        "id": "DuijY7M5Jgdm"
      },
      "execution_count": null,
      "outputs": []
    },
    {
      "cell_type": "code",
      "source": [
        "# ***************************************************************************************************************************************************************************\n",
        "# ====================== ********** PARTE 1: INSTRUCCIONES DE AGRUPACION ********** ====================== # \n",
        "# ***************************************************************************************************************************************************************************"
      ],
      "metadata": {
        "id": "al_kMuJYJqCE"
      },
      "execution_count": null,
      "outputs": []
    },
    {
      "cell_type": "code",
      "source": [
        "# Vamos a escalar los datos, para prepararlos para el modelo:\n",
        "\n",
        "scaler = StandardScaler()\n",
        "X_scaled = pd.DataFrame(scaler.fit_transform(df), columns=df.columns)\n",
        "X_scaled.head()"
      ],
      "metadata": {
        "colab": {
          "base_uri": "https://localhost:8080/",
          "height": 270
        },
        "id": "h3olC_KmTB9X",
        "outputId": "c2044944-4ae8-4919-f343-5f5fee08733c"
      },
      "execution_count": 69,
      "outputs": [
        {
          "output_type": "execute_result",
          "data": {
            "text/plain": [
              "     gender  highest_education  imd_band  age_band  num_of_prev_attempts  \\\n",
              "0  1.112675          -0.095762  1.636668  3.396696             -0.275634   \n",
              "1 -0.898735          -0.095762 -0.857748  1.351481             -0.275634   \n",
              "2 -0.898735           0.967056  0.211288  1.351481             -0.275634   \n",
              "3 -0.898735          -1.158580  0.211288 -0.693734             -0.275634   \n",
              "4  1.112675          -0.095762 -0.501402 -0.693734             -0.275634   \n",
              "\n",
              "   studied_credits  disability  passed_course  assess_score_1  assess_score_2  \\\n",
              "0         4.410984   -0.318137       0.557328        0.209370        0.688213   \n",
              "1        -0.394410   -0.318137       0.557328       -0.208042       -0.471916   \n",
              "2        -0.394410   -0.318137       0.557328       -0.103689       -0.267187   \n",
              "3        -0.394410   -0.318137       0.557328       -0.260218       -3.065146   \n",
              "4        -0.394410   -0.318137       0.557328       -0.208042       -0.676645   \n",
              "\n",
              "   assess_score_3  assess_score_4  assess_score_5  \n",
              "0        0.015050        0.519735        0.199387  \n",
              "1       -0.551431       -0.649062       -0.927132  \n",
              "2       -0.324839        0.686706       -0.159051  \n",
              "3       -0.947968       -2.263114       -0.159051  \n",
              "4       -1.004616       -0.036835       -0.517489  "
            ],
            "text/html": [
              "\n",
              "  <div id=\"df-748f400d-cfc4-4683-a4bb-f767104e786a\">\n",
              "    <div class=\"colab-df-container\">\n",
              "      <div>\n",
              "<style scoped>\n",
              "    .dataframe tbody tr th:only-of-type {\n",
              "        vertical-align: middle;\n",
              "    }\n",
              "\n",
              "    .dataframe tbody tr th {\n",
              "        vertical-align: top;\n",
              "    }\n",
              "\n",
              "    .dataframe thead th {\n",
              "        text-align: right;\n",
              "    }\n",
              "</style>\n",
              "<table border=\"1\" class=\"dataframe\">\n",
              "  <thead>\n",
              "    <tr style=\"text-align: right;\">\n",
              "      <th></th>\n",
              "      <th>gender</th>\n",
              "      <th>highest_education</th>\n",
              "      <th>imd_band</th>\n",
              "      <th>age_band</th>\n",
              "      <th>num_of_prev_attempts</th>\n",
              "      <th>studied_credits</th>\n",
              "      <th>disability</th>\n",
              "      <th>passed_course</th>\n",
              "      <th>assess_score_1</th>\n",
              "      <th>assess_score_2</th>\n",
              "      <th>assess_score_3</th>\n",
              "      <th>assess_score_4</th>\n",
              "      <th>assess_score_5</th>\n",
              "    </tr>\n",
              "  </thead>\n",
              "  <tbody>\n",
              "    <tr>\n",
              "      <th>0</th>\n",
              "      <td>1.112675</td>\n",
              "      <td>-0.095762</td>\n",
              "      <td>1.636668</td>\n",
              "      <td>3.396696</td>\n",
              "      <td>-0.275634</td>\n",
              "      <td>4.410984</td>\n",
              "      <td>-0.318137</td>\n",
              "      <td>0.557328</td>\n",
              "      <td>0.209370</td>\n",
              "      <td>0.688213</td>\n",
              "      <td>0.015050</td>\n",
              "      <td>0.519735</td>\n",
              "      <td>0.199387</td>\n",
              "    </tr>\n",
              "    <tr>\n",
              "      <th>1</th>\n",
              "      <td>-0.898735</td>\n",
              "      <td>-0.095762</td>\n",
              "      <td>-0.857748</td>\n",
              "      <td>1.351481</td>\n",
              "      <td>-0.275634</td>\n",
              "      <td>-0.394410</td>\n",
              "      <td>-0.318137</td>\n",
              "      <td>0.557328</td>\n",
              "      <td>-0.208042</td>\n",
              "      <td>-0.471916</td>\n",
              "      <td>-0.551431</td>\n",
              "      <td>-0.649062</td>\n",
              "      <td>-0.927132</td>\n",
              "    </tr>\n",
              "    <tr>\n",
              "      <th>2</th>\n",
              "      <td>-0.898735</td>\n",
              "      <td>0.967056</td>\n",
              "      <td>0.211288</td>\n",
              "      <td>1.351481</td>\n",
              "      <td>-0.275634</td>\n",
              "      <td>-0.394410</td>\n",
              "      <td>-0.318137</td>\n",
              "      <td>0.557328</td>\n",
              "      <td>-0.103689</td>\n",
              "      <td>-0.267187</td>\n",
              "      <td>-0.324839</td>\n",
              "      <td>0.686706</td>\n",
              "      <td>-0.159051</td>\n",
              "    </tr>\n",
              "    <tr>\n",
              "      <th>3</th>\n",
              "      <td>-0.898735</td>\n",
              "      <td>-1.158580</td>\n",
              "      <td>0.211288</td>\n",
              "      <td>-0.693734</td>\n",
              "      <td>-0.275634</td>\n",
              "      <td>-0.394410</td>\n",
              "      <td>-0.318137</td>\n",
              "      <td>0.557328</td>\n",
              "      <td>-0.260218</td>\n",
              "      <td>-3.065146</td>\n",
              "      <td>-0.947968</td>\n",
              "      <td>-2.263114</td>\n",
              "      <td>-0.159051</td>\n",
              "    </tr>\n",
              "    <tr>\n",
              "      <th>4</th>\n",
              "      <td>1.112675</td>\n",
              "      <td>-0.095762</td>\n",
              "      <td>-0.501402</td>\n",
              "      <td>-0.693734</td>\n",
              "      <td>-0.275634</td>\n",
              "      <td>-0.394410</td>\n",
              "      <td>-0.318137</td>\n",
              "      <td>0.557328</td>\n",
              "      <td>-0.208042</td>\n",
              "      <td>-0.676645</td>\n",
              "      <td>-1.004616</td>\n",
              "      <td>-0.036835</td>\n",
              "      <td>-0.517489</td>\n",
              "    </tr>\n",
              "  </tbody>\n",
              "</table>\n",
              "</div>\n",
              "      <button class=\"colab-df-convert\" onclick=\"convertToInteractive('df-748f400d-cfc4-4683-a4bb-f767104e786a')\"\n",
              "              title=\"Convert this dataframe to an interactive table.\"\n",
              "              style=\"display:none;\">\n",
              "        \n",
              "  <svg xmlns=\"http://www.w3.org/2000/svg\" height=\"24px\"viewBox=\"0 0 24 24\"\n",
              "       width=\"24px\">\n",
              "    <path d=\"M0 0h24v24H0V0z\" fill=\"none\"/>\n",
              "    <path d=\"M18.56 5.44l.94 2.06.94-2.06 2.06-.94-2.06-.94-.94-2.06-.94 2.06-2.06.94zm-11 1L8.5 8.5l.94-2.06 2.06-.94-2.06-.94L8.5 2.5l-.94 2.06-2.06.94zm10 10l.94 2.06.94-2.06 2.06-.94-2.06-.94-.94-2.06-.94 2.06-2.06.94z\"/><path d=\"M17.41 7.96l-1.37-1.37c-.4-.4-.92-.59-1.43-.59-.52 0-1.04.2-1.43.59L10.3 9.45l-7.72 7.72c-.78.78-.78 2.05 0 2.83L4 21.41c.39.39.9.59 1.41.59.51 0 1.02-.2 1.41-.59l7.78-7.78 2.81-2.81c.8-.78.8-2.07 0-2.86zM5.41 20L4 18.59l7.72-7.72 1.47 1.35L5.41 20z\"/>\n",
              "  </svg>\n",
              "      </button>\n",
              "      \n",
              "  <style>\n",
              "    .colab-df-container {\n",
              "      display:flex;\n",
              "      flex-wrap:wrap;\n",
              "      gap: 12px;\n",
              "    }\n",
              "\n",
              "    .colab-df-convert {\n",
              "      background-color: #E8F0FE;\n",
              "      border: none;\n",
              "      border-radius: 50%;\n",
              "      cursor: pointer;\n",
              "      display: none;\n",
              "      fill: #1967D2;\n",
              "      height: 32px;\n",
              "      padding: 0 0 0 0;\n",
              "      width: 32px;\n",
              "    }\n",
              "\n",
              "    .colab-df-convert:hover {\n",
              "      background-color: #E2EBFA;\n",
              "      box-shadow: 0px 1px 2px rgba(60, 64, 67, 0.3), 0px 1px 3px 1px rgba(60, 64, 67, 0.15);\n",
              "      fill: #174EA6;\n",
              "    }\n",
              "\n",
              "    [theme=dark] .colab-df-convert {\n",
              "      background-color: #3B4455;\n",
              "      fill: #D2E3FC;\n",
              "    }\n",
              "\n",
              "    [theme=dark] .colab-df-convert:hover {\n",
              "      background-color: #434B5C;\n",
              "      box-shadow: 0px 1px 3px 1px rgba(0, 0, 0, 0.15);\n",
              "      filter: drop-shadow(0px 1px 2px rgba(0, 0, 0, 0.3));\n",
              "      fill: #FFFFFF;\n",
              "    }\n",
              "  </style>\n",
              "\n",
              "      <script>\n",
              "        const buttonEl =\n",
              "          document.querySelector('#df-748f400d-cfc4-4683-a4bb-f767104e786a button.colab-df-convert');\n",
              "        buttonEl.style.display =\n",
              "          google.colab.kernel.accessAllowed ? 'block' : 'none';\n",
              "\n",
              "        async function convertToInteractive(key) {\n",
              "          const element = document.querySelector('#df-748f400d-cfc4-4683-a4bb-f767104e786a');\n",
              "          const dataTable =\n",
              "            await google.colab.kernel.invokeFunction('convertToInteractive',\n",
              "                                                     [key], {});\n",
              "          if (!dataTable) return;\n",
              "\n",
              "          const docLinkHtml = 'Like what you see? Visit the ' +\n",
              "            '<a target=\"_blank\" href=https://colab.research.google.com/notebooks/data_table.ipynb>data table notebook</a>'\n",
              "            + ' to learn more about interactive tables.';\n",
              "          element.innerHTML = '';\n",
              "          dataTable['output_type'] = 'display_data';\n",
              "          await google.colab.output.renderOutput(dataTable, element);\n",
              "          const docLink = document.createElement('div');\n",
              "          docLink.innerHTML = docLinkHtml;\n",
              "          element.appendChild(docLink);\n",
              "        }\n",
              "      </script>\n",
              "    </div>\n",
              "  </div>\n",
              "  "
            ]
          },
          "metadata": {},
          "execution_count": 69
        }
      ]
    },
    {
      "cell_type": "code",
      "source": [
        "# Para lograr utilizar el modelo de Kmedias, primero debo entender cual es el grupo de clusteres adecuado para el modelo, por lo que \n",
        "# para que sea mas sencilla su interpretacion, ocuparemos los graficos aprendidos: "
      ],
      "metadata": {
        "id": "Tm_HX7Z-TRY8"
      },
      "execution_count": null,
      "outputs": []
    },
    {
      "cell_type": "code",
      "source": [
        "ks = range(2,10)\n",
        "sils = []\n",
        "inertias = []\n",
        "for k in ks:\n",
        "  kmeans = KMeans(n_clusters=k, random_state=42)\n",
        "  kmeans.fit(X_scaled)\n",
        "  sils.append(silhouette_score(X_scaled, kmeans.labels_))\n",
        "  inertias.append(kmeans.inertia_)\n",
        "fig, axes = plt.subplots(1,2, figsize=(15,5))\n",
        "axes[0].plot(ks, sils)\n",
        "axes[0].set_title('Silhouette Scores')\n",
        "axes[0].set_xticks(ks)\n",
        "axes[1].plot(ks, inertias)\n",
        "axes[1].set_title('Inertia')\n",
        "axes[1].set_xticks(ks);"
      ],
      "metadata": {
        "colab": {
          "base_uri": "https://localhost:8080/",
          "height": 766
        },
        "id": "N1rVsPSSTB7a",
        "outputId": "4ee92e90-e5e8-465a-8c20-20ff1907b93a"
      },
      "execution_count": 70,
      "outputs": [
        {
          "output_type": "stream",
          "name": "stderr",
          "text": [
            "/usr/local/lib/python3.10/dist-packages/sklearn/cluster/_kmeans.py:870: FutureWarning: The default value of `n_init` will change from 10 to 'auto' in 1.4. Set the value of `n_init` explicitly to suppress the warning\n",
            "  warnings.warn(\n",
            "/usr/local/lib/python3.10/dist-packages/sklearn/cluster/_kmeans.py:870: FutureWarning: The default value of `n_init` will change from 10 to 'auto' in 1.4. Set the value of `n_init` explicitly to suppress the warning\n",
            "  warnings.warn(\n",
            "/usr/local/lib/python3.10/dist-packages/sklearn/cluster/_kmeans.py:870: FutureWarning: The default value of `n_init` will change from 10 to 'auto' in 1.4. Set the value of `n_init` explicitly to suppress the warning\n",
            "  warnings.warn(\n",
            "/usr/local/lib/python3.10/dist-packages/sklearn/cluster/_kmeans.py:870: FutureWarning: The default value of `n_init` will change from 10 to 'auto' in 1.4. Set the value of `n_init` explicitly to suppress the warning\n",
            "  warnings.warn(\n",
            "/usr/local/lib/python3.10/dist-packages/sklearn/cluster/_kmeans.py:870: FutureWarning: The default value of `n_init` will change from 10 to 'auto' in 1.4. Set the value of `n_init` explicitly to suppress the warning\n",
            "  warnings.warn(\n",
            "/usr/local/lib/python3.10/dist-packages/sklearn/cluster/_kmeans.py:870: FutureWarning: The default value of `n_init` will change from 10 to 'auto' in 1.4. Set the value of `n_init` explicitly to suppress the warning\n",
            "  warnings.warn(\n",
            "/usr/local/lib/python3.10/dist-packages/sklearn/cluster/_kmeans.py:870: FutureWarning: The default value of `n_init` will change from 10 to 'auto' in 1.4. Set the value of `n_init` explicitly to suppress the warning\n",
            "  warnings.warn(\n",
            "/usr/local/lib/python3.10/dist-packages/sklearn/cluster/_kmeans.py:870: FutureWarning: The default value of `n_init` will change from 10 to 'auto' in 1.4. Set the value of `n_init` explicitly to suppress the warning\n",
            "  warnings.warn(\n"
          ]
        },
        {
          "output_type": "display_data",
          "data": {
            "text/plain": [
              "<Figure size 1500x500 with 2 Axes>"
            ],
            "image/png": "[encoded data removed]"
          },
          "metadata": {}
        }
      ]
    },
    {
      "cell_type": "code",
      "source": [
        "# Con el metodo del codo, es un poco dificil encontrar esa reduccion drastica en el eje de la inercia. A simple vista, no podría decir nada en cuanto a \n",
        "# cuantos clusteres son los adecuados para trabajar, pero si me aventuro a dar un numero bajo este metodo, diría que 5 o 6 clusteres, podrían ser los adecuados. "
      ],
      "metadata": {
        "id": "OnF6Gv5ZUHJc"
      },
      "execution_count": null,
      "outputs": []
    },
    {
      "cell_type": "code",
      "source": [
        "# Con el metodo de la siluetta, es mucho mas facil observar la cantidad de clusteres que debemos aplicar. Entendiendo que mientras mas alta sea la \n",
        "# puntuacion de la siluetta es mejor, podemos decidir que el numero de clusteres adecuado para el modelo es 2."
      ],
      "metadata": {
        "id": "QZVGo0xHTB3L"
      },
      "execution_count": null,
      "outputs": []
    },
    {
      "cell_type": "code",
      "source": [
        "# De lo anterior, escogeremos el 2 como numero de clusteres. "
      ],
      "metadata": {
        "id": "wZP3lnXnTB1D"
      },
      "execution_count": null,
      "outputs": []
    },
    {
      "cell_type": "code",
      "source": [
        "# Ahora aplicamos el modelo kmeans con 2 clusteres:\n",
        "kmeans = KMeans(n_clusters=2, random_state=42)\n",
        "kmeans.fit(X_scaled)\n",
        "\n",
        "# Agregamos el numero de clusteres al dataframe en su propia columna. \n",
        "df['cluster'] = kmeans.labels_\n",
        "df.head()"
      ],
      "metadata": {
        "colab": {
          "base_uri": "https://localhost:8080/",
          "height": 305
        },
        "id": "sgVlTkjRTBy8",
        "outputId": "8878f760-93f2-44af-f642-c20c017b78e2"
      },
      "execution_count": 71,
      "outputs": [
        {
          "output_type": "stream",
          "name": "stderr",
          "text": [
            "/usr/local/lib/python3.10/dist-packages/sklearn/cluster/_kmeans.py:870: FutureWarning: The default value of `n_init` will change from 10 to 'auto' in 1.4. Set the value of `n_init` explicitly to suppress the warning\n",
            "  warnings.warn(\n"
          ]
        },
        {
          "output_type": "execute_result",
          "data": {
            "text/plain": [
              "   gender  highest_education  imd_band  age_band  num_of_prev_attempts  \\\n",
              "0       1                  2         9         2                     0   \n",
              "1       0                  2         2         1                     0   \n",
              "2       0                  3         5         1                     0   \n",
              "3       0                  1         5         0                     0   \n",
              "4       1                  2         3         0                     0   \n",
              "\n",
              "   studied_credits  disability  passed_course  assess_score_1  assess_score_2  \\\n",
              "0              240           0              1              78              85   \n",
              "1               60           0              1              70              68   \n",
              "2               60           0              1              72              71   \n",
              "3               60           0              1              69              30   \n",
              "4               60           0              1              70              65   \n",
              "\n",
              "   assess_score_3  assess_score_4  assess_score_5  cluster  \n",
              "0              80              85              82        0  \n",
              "1              70              64              60        1  \n",
              "2              74              88              75        0  \n",
              "3              63              35              75        1  \n",
              "4              62              75              68        1  "
            ],
            "text/html": [
              "\n",
              "  <div id=\"df-c545b1b5-121d-4e0d-9f61-806fce50bd1f\">\n",
              "    <div class=\"colab-df-container\">\n",
              "      <div>\n",
              "<style scoped>\n",
              "    .dataframe tbody tr th:only-of-type {\n",
              "        vertical-align: middle;\n",
              "    }\n",
              "\n",
              "    .dataframe tbody tr th {\n",
              "        vertical-align: top;\n",
              "    }\n",
              "\n",
              "    .dataframe thead th {\n",
              "        text-align: right;\n",
              "    }\n",
              "</style>\n",
              "<table border=\"1\" class=\"dataframe\">\n",
              "  <thead>\n",
              "    <tr style=\"text-align: right;\">\n",
              "      <th></th>\n",
              "      <th>gender</th>\n",
              "      <th>highest_education</th>\n",
              "      <th>imd_band</th>\n",
              "      <th>age_band</th>\n",
              "      <th>num_of_prev_attempts</th>\n",
              "      <th>studied_credits</th>\n",
              "      <th>disability</th>\n",
              "      <th>passed_course</th>\n",
              "      <th>assess_score_1</th>\n",
              "      <th>assess_score_2</th>\n",
              "      <th>assess_score_3</th>\n",
              "      <th>assess_score_4</th>\n",
              "      <th>assess_score_5</th>\n",
              "      <th>cluster</th>\n",
              "    </tr>\n",
              "  </thead>\n",
              "  <tbody>\n",
              "    <tr>\n",
              "      <th>0</th>\n",
              "      <td>1</td>\n",
              "      <td>2</td>\n",
              "      <td>9</td>\n",
              "      <td>2</td>\n",
              "      <td>0</td>\n",
              "      <td>240</td>\n",
              "      <td>0</td>\n",
              "      <td>1</td>\n",
              "      <td>78</td>\n",
              "      <td>85</td>\n",
              "      <td>80</td>\n",
              "      <td>85</td>\n",
              "      <td>82</td>\n",
              "      <td>0</td>\n",
              "    </tr>\n",
              "    <tr>\n",
              "      <th>1</th>\n",
              "      <td>0</td>\n",
              "      <td>2</td>\n",
              "      <td>2</td>\n",
              "      <td>1</td>\n",
              "      <td>0</td>\n",
              "      <td>60</td>\n",
              "      <td>0</td>\n",
              "      <td>1</td>\n",
              "      <td>70</td>\n",
              "      <td>68</td>\n",
              "      <td>70</td>\n",
              "      <td>64</td>\n",
              "      <td>60</td>\n",
              "      <td>1</td>\n",
              "    </tr>\n",
              "    <tr>\n",
              "      <th>2</th>\n",
              "      <td>0</td>\n",
              "      <td>3</td>\n",
              "      <td>5</td>\n",
              "      <td>1</td>\n",
              "      <td>0</td>\n",
              "      <td>60</td>\n",
              "      <td>0</td>\n",
              "      <td>1</td>\n",
              "      <td>72</td>\n",
              "      <td>71</td>\n",
              "      <td>74</td>\n",
              "      <td>88</td>\n",
              "      <td>75</td>\n",
              "      <td>0</td>\n",
              "    </tr>\n",
              "    <tr>\n",
              "      <th>3</th>\n",
              "      <td>0</td>\n",
              "      <td>1</td>\n",
              "      <td>5</td>\n",
              "      <td>0</td>\n",
              "      <td>0</td>\n",
              "      <td>60</td>\n",
              "      <td>0</td>\n",
              "      <td>1</td>\n",
              "      <td>69</td>\n",
              "      <td>30</td>\n",
              "      <td>63</td>\n",
              "      <td>35</td>\n",
              "      <td>75</td>\n",
              "      <td>1</td>\n",
              "    </tr>\n",
              "    <tr>\n",
              "      <th>4</th>\n",
              "      <td>1</td>\n",
              "      <td>2</td>\n",
              "      <td>3</td>\n",
              "      <td>0</td>\n",
              "      <td>0</td>\n",
              "      <td>60</td>\n",
              "      <td>0</td>\n",
              "      <td>1</td>\n",
              "      <td>70</td>\n",
              "      <td>65</td>\n",
              "      <td>62</td>\n",
              "      <td>75</td>\n",
              "      <td>68</td>\n",
              "      <td>1</td>\n",
              "    </tr>\n",
              "  </tbody>\n",
              "</table>\n",
              "</div>\n",
              "      <button class=\"colab-df-convert\" onclick=\"convertToInteractive('df-c545b1b5-121d-4e0d-9f61-806fce50bd1f')\"\n",
              "              title=\"Convert this dataframe to an interactive table.\"\n",
              "              style=\"display:none;\">\n",
              "        \n",
              "  <svg xmlns=\"http://www.w3.org/2000/svg\" height=\"24px\"viewBox=\"0 0 24 24\"\n",
              "       width=\"24px\">\n",
              "    <path d=\"M0 0h24v24H0V0z\" fill=\"none\"/>\n",
              "    <path d=\"M18.56 5.44l.94 2.06.94-2.06 2.06-.94-2.06-.94-.94-2.06-.94 2.06-2.06.94zm-11 1L8.5 8.5l.94-2.06 2.06-.94-2.06-.94L8.5 2.5l-.94 2.06-2.06.94zm10 10l.94 2.06.94-2.06 2.06-.94-2.06-.94-.94-2.06-.94 2.06-2.06.94z\"/><path d=\"M17.41 7.96l-1.37-1.37c-.4-.4-.92-.59-1.43-.59-.52 0-1.04.2-1.43.59L10.3 9.45l-7.72 7.72c-.78.78-.78 2.05 0 2.83L4 21.41c.39.39.9.59 1.41.59.51 0 1.02-.2 1.41-.59l7.78-7.78 2.81-2.81c.8-.78.8-2.07 0-2.86zM5.41 20L4 18.59l7.72-7.72 1.47 1.35L5.41 20z\"/>\n",
              "  </svg>\n",
              "      </button>\n",
              "      \n",
              "  <style>\n",
              "    .colab-df-container {\n",
              "      display:flex;\n",
              "      flex-wrap:wrap;\n",
              "      gap: 12px;\n",
              "    }\n",
              "\n",
              "    .colab-df-convert {\n",
              "      background-color: #E8F0FE;\n",
              "      border: none;\n",
              "      border-radius: 50%;\n",
              "      cursor: pointer;\n",
              "      display: none;\n",
              "      fill: #1967D2;\n",
              "      height: 32px;\n",
              "      padding: 0 0 0 0;\n",
              "      width: 32px;\n",
              "    }\n",
              "\n",
              "    .colab-df-convert:hover {\n",
              "      background-color: #E2EBFA;\n",
              "      box-shadow: 0px 1px 2px rgba(60, 64, 67, 0.3), 0px 1px 3px 1px rgba(60, 64, 67, 0.15);\n",
              "      fill: #174EA6;\n",
              "    }\n",
              "\n",
              "    [theme=dark] .colab-df-convert {\n",
              "      background-color: #3B4455;\n",
              "      fill: #D2E3FC;\n",
              "    }\n",
              "\n",
              "    [theme=dark] .colab-df-convert:hover {\n",
              "      background-color: #434B5C;\n",
              "      box-shadow: 0px 1px 3px 1px rgba(0, 0, 0, 0.15);\n",
              "      filter: drop-shadow(0px 1px 2px rgba(0, 0, 0, 0.3));\n",
              "      fill: #FFFFFF;\n",
              "    }\n",
              "  </style>\n",
              "\n",
              "      <script>\n",
              "        const buttonEl =\n",
              "          document.querySelector('#df-c545b1b5-121d-4e0d-9f61-806fce50bd1f button.colab-df-convert');\n",
              "        buttonEl.style.display =\n",
              "          google.colab.kernel.accessAllowed ? 'block' : 'none';\n",
              "\n",
              "        async function convertToInteractive(key) {\n",
              "          const element = document.querySelector('#df-c545b1b5-121d-4e0d-9f61-806fce50bd1f');\n",
              "          const dataTable =\n",
              "            await google.colab.kernel.invokeFunction('convertToInteractive',\n",
              "                                                     [key], {});\n",
              "          if (!dataTable) return;\n",
              "\n",
              "          const docLinkHtml = 'Like what you see? Visit the ' +\n",
              "            '<a target=\"_blank\" href=https://colab.research.google.com/notebooks/data_table.ipynb>data table notebook</a>'\n",
              "            + ' to learn more about interactive tables.';\n",
              "          element.innerHTML = '';\n",
              "          dataTable['output_type'] = 'display_data';\n",
              "          await google.colab.output.renderOutput(dataTable, element);\n",
              "          const docLink = document.createElement('div');\n",
              "          docLink.innerHTML = docLinkHtml;\n",
              "          element.appendChild(docLink);\n",
              "        }\n",
              "      </script>\n",
              "    </div>\n",
              "  </div>\n",
              "  "
            ]
          },
          "metadata": {},
          "execution_count": 71
        }
      ]
    },
    {
      "cell_type": "code",
      "source": [
        "# Lo que hacemos ahora, es que agrupamos el dataframe de acuerdo a los clusters (los 2 escogidos) y hacemos que nos muestre el promedio de cada columna (esto es para \n",
        "# tener una idea mas general de los valores).\n",
        "cluster_groups = df.groupby('cluster', as_index=False).mean()\n",
        "cluster_groups"
      ],
      "metadata": {
        "colab": {
          "base_uri": "https://localhost:8080/",
          "height": 176
        },
        "id": "DrAZjwZKTBw2",
        "outputId": "e85c5726-d023-443f-f577-865eee723fa2"
      },
      "execution_count": 73,
      "outputs": [
        {
          "output_type": "execute_result",
          "data": {
            "text/plain": [
              "   cluster    gender  highest_education  imd_band  age_band  \\\n",
              "0        0  0.429080           2.157864  4.702077  0.372582   \n",
              "1        1  0.481533           1.957491  3.829733  0.273868   \n",
              "\n",
              "   num_of_prev_attempts  studied_credits  disability  passed_course  \\\n",
              "0              0.078576        71.621365    0.075252        0.90908   \n",
              "1              0.163995        80.943089    0.124506        0.47712   \n",
              "\n",
              "   assess_score_1  assess_score_2  assess_score_3  assess_score_4  \\\n",
              "0       79.677864       80.568665       86.631335       83.343976   \n",
              "1       62.850639       63.851336       66.236702       60.627642   \n",
              "\n",
              "   assess_score_5  \n",
              "0       86.289733  \n",
              "1       62.090592  "
            ],
            "text/html": [
              "\n",
              "  <div id=\"df-1e61313b-2eb8-4eba-912e-6d4303655747\">\n",
              "    <div class=\"colab-df-container\">\n",
              "      <div>\n",
              "<style scoped>\n",
              "    .dataframe tbody tr th:only-of-type {\n",
              "        vertical-align: middle;\n",
              "    }\n",
              "\n",
              "    .dataframe tbody tr th {\n",
              "        vertical-align: top;\n",
              "    }\n",
              "\n",
              "    .dataframe thead th {\n",
              "        text-align: right;\n",
              "    }\n",
              "</style>\n",
              "<table border=\"1\" class=\"dataframe\">\n",
              "  <thead>\n",
              "    <tr style=\"text-align: right;\">\n",
              "      <th></th>\n",
              "      <th>cluster</th>\n",
              "      <th>gender</th>\n",
              "      <th>highest_education</th>\n",
              "      <th>imd_band</th>\n",
              "      <th>age_band</th>\n",
              "      <th>num_of_prev_attempts</th>\n",
              "      <th>studied_credits</th>\n",
              "      <th>disability</th>\n",
              "      <th>passed_course</th>\n",
              "      <th>assess_score_1</th>\n",
              "      <th>assess_score_2</th>\n",
              "      <th>assess_score_3</th>\n",
              "      <th>assess_score_4</th>\n",
              "      <th>assess_score_5</th>\n",
              "    </tr>\n",
              "  </thead>\n",
              "  <tbody>\n",
              "    <tr>\n",
              "      <th>0</th>\n",
              "      <td>0</td>\n",
              "      <td>0.429080</td>\n",
              "      <td>2.157864</td>\n",
              "      <td>4.702077</td>\n",
              "      <td>0.372582</td>\n",
              "      <td>0.078576</td>\n",
              "      <td>71.621365</td>\n",
              "      <td>0.075252</td>\n",
              "      <td>0.90908</td>\n",
              "      <td>79.677864</td>\n",
              "      <td>80.568665</td>\n",
              "      <td>86.631335</td>\n",
              "      <td>83.343976</td>\n",
              "      <td>86.289733</td>\n",
              "    </tr>\n",
              "    <tr>\n",
              "      <th>1</th>\n",
              "      <td>1</td>\n",
              "      <td>0.481533</td>\n",
              "      <td>1.957491</td>\n",
              "      <td>3.829733</td>\n",
              "      <td>0.273868</td>\n",
              "      <td>0.163995</td>\n",
              "      <td>80.943089</td>\n",
              "      <td>0.124506</td>\n",
              "      <td>0.47712</td>\n",
              "      <td>62.850639</td>\n",
              "      <td>63.851336</td>\n",
              "      <td>66.236702</td>\n",
              "      <td>60.627642</td>\n",
              "      <td>62.090592</td>\n",
              "    </tr>\n",
              "  </tbody>\n",
              "</table>\n",
              "</div>\n",
              "      <button class=\"colab-df-convert\" onclick=\"convertToInteractive('df-1e61313b-2eb8-4eba-912e-6d4303655747')\"\n",
              "              title=\"Convert this dataframe to an interactive table.\"\n",
              "              style=\"display:none;\">\n",
              "        \n",
              "  <svg xmlns=\"http://www.w3.org/2000/svg\" height=\"24px\"viewBox=\"0 0 24 24\"\n",
              "       width=\"24px\">\n",
              "    <path d=\"M0 0h24v24H0V0z\" fill=\"none\"/>\n",
              "    <path d=\"M18.56 5.44l.94 2.06.94-2.06 2.06-.94-2.06-.94-.94-2.06-.94 2.06-2.06.94zm-11 1L8.5 8.5l.94-2.06 2.06-.94-2.06-.94L8.5 2.5l-.94 2.06-2.06.94zm10 10l.94 2.06.94-2.06 2.06-.94-2.06-.94-.94-2.06-.94 2.06-2.06.94z\"/><path d=\"M17.41 7.96l-1.37-1.37c-.4-.4-.92-.59-1.43-.59-.52 0-1.04.2-1.43.59L10.3 9.45l-7.72 7.72c-.78.78-.78 2.05 0 2.83L4 21.41c.39.39.9.59 1.41.59.51 0 1.02-.2 1.41-.59l7.78-7.78 2.81-2.81c.8-.78.8-2.07 0-2.86zM5.41 20L4 18.59l7.72-7.72 1.47 1.35L5.41 20z\"/>\n",
              "  </svg>\n",
              "      </button>\n",
              "      \n",
              "  <style>\n",
              "    .colab-df-container {\n",
              "      display:flex;\n",
              "      flex-wrap:wrap;\n",
              "      gap: 12px;\n",
              "    }\n",
              "\n",
              "    .colab-df-convert {\n",
              "      background-color: #E8F0FE;\n",
              "      border: none;\n",
              "      border-radius: 50%;\n",
              "      cursor: pointer;\n",
              "      display: none;\n",
              "      fill: #1967D2;\n",
              "      height: 32px;\n",
              "      padding: 0 0 0 0;\n",
              "      width: 32px;\n",
              "    }\n",
              "\n",
              "    .colab-df-convert:hover {\n",
              "      background-color: #E2EBFA;\n",
              "      box-shadow: 0px 1px 2px rgba(60, 64, 67, 0.3), 0px 1px 3px 1px rgba(60, 64, 67, 0.15);\n",
              "      fill: #174EA6;\n",
              "    }\n",
              "\n",
              "    [theme=dark] .colab-df-convert {\n",
              "      background-color: #3B4455;\n",
              "      fill: #D2E3FC;\n",
              "    }\n",
              "\n",
              "    [theme=dark] .colab-df-convert:hover {\n",
              "      background-color: #434B5C;\n",
              "      box-shadow: 0px 1px 3px 1px rgba(0, 0, 0, 0.15);\n",
              "      filter: drop-shadow(0px 1px 2px rgba(0, 0, 0, 0.3));\n",
              "      fill: #FFFFFF;\n",
              "    }\n",
              "  </style>\n",
              "\n",
              "      <script>\n",
              "        const buttonEl =\n",
              "          document.querySelector('#df-1e61313b-2eb8-4eba-912e-6d4303655747 button.colab-df-convert');\n",
              "        buttonEl.style.display =\n",
              "          google.colab.kernel.accessAllowed ? 'block' : 'none';\n",
              "\n",
              "        async function convertToInteractive(key) {\n",
              "          const element = document.querySelector('#df-1e61313b-2eb8-4eba-912e-6d4303655747');\n",
              "          const dataTable =\n",
              "            await google.colab.kernel.invokeFunction('convertToInteractive',\n",
              "                                                     [key], {});\n",
              "          if (!dataTable) return;\n",
              "\n",
              "          const docLinkHtml = 'Like what you see? Visit the ' +\n",
              "            '<a target=\"_blank\" href=https://colab.research.google.com/notebooks/data_table.ipynb>data table notebook</a>'\n",
              "            + ' to learn more about interactive tables.';\n",
              "          element.innerHTML = '';\n",
              "          dataTable['output_type'] = 'display_data';\n",
              "          await google.colab.output.renderOutput(dataTable, element);\n",
              "          const docLink = document.createElement('div');\n",
              "          docLink.innerHTML = docLinkHtml;\n",
              "          element.appendChild(docLink);\n",
              "        }\n",
              "      </script>\n",
              "    </div>\n",
              "  </div>\n",
              "  "
            ]
          },
          "metadata": {},
          "execution_count": 73
        }
      ]
    },
    {
      "cell_type": "code",
      "source": [
        "# Y por ultimo vamos a graficar el promedio de cada columna de acuerdo al cluster al cual pertenezca. "
      ],
      "metadata": {
        "id": "tiHB11gVYolI"
      },
      "execution_count": null,
      "outputs": []
    },
    {
      "cell_type": "code",
      "source": [
        "fig, axes = plt.subplots(4,4, figsize = (30, 20))\n",
        "axes = axes.ravel()\n",
        "for i, col in enumerate(cluster_groups.columns[1:]):\n",
        "  axes[i].bar(cluster_groups['cluster'], cluster_groups[col])\n",
        "  axes[i].set_title(f'Mean {col}')"
      ],
      "metadata": {
        "colab": {
          "base_uri": "https://localhost:8080/",
          "height": 1000
        },
        "id": "paou8MQxX58w",
        "outputId": "b98858c4-01a6-4495-9f59-e36121e6a829"
      },
      "execution_count": 82,
      "outputs": [
        {
          "output_type": "display_data",
          "data": {
            "text/plain": [
              "<Figure size 3000x2000 with 16 Axes>"
            ],
            "image/png": "[encoded data removed]"
          },
          "metadata": {}
        }
      ]
    },
    {
      "cell_type": "code",
      "source": [
        "# El modo de interpretacion será de acuerdo a los clusters. Tomaremos un cluster e iremos grafico por grafico interpretando el resultado, para luego, hacer lo mismo \n",
        "# con el segundo clusters y asi, finalmente, obtener la conclusion final. "
      ],
      "metadata": {
        "id": "5YlI7A-XWB0s"
      },
      "execution_count": null,
      "outputs": []
    },
    {
      "cell_type": "code",
      "source": [
        "# En el cluster 2 podemos observar que el promedio de edad es mayor que en el cluster 1. Los del cluster 2 han llegado a un nivel educacional levemente menor\n",
        "# que en el cluster 1 lo cual concuerda con el siguiente punto que corresponde al indice de privacion multiple. Este indice en el cluster 2 es mucho mas bajo \n",
        "# que en el cluster 1 lo cual indica que los del primer grupo mencionado pertenecen a un grupo de personas que estan en un vecindario mas desfavorecido. Tambien,\n",
        "# los del cluster 2 poseen mayores personas con discapacidad que los del cluster 1. Esto ultimo podria tener sentido si consideramos que este grupo es el mismo \n",
        "# que contempla a las personas que viven en un vecindario mas desfavorecido. El promedio de los creditos tenidos por estudio es mayor en el cluster 2 que en el cluster 1\n",
        "# pero los cursos aprobados son mayores en el cluster 1 que en el cluster 2 lo cual podría significar (y aventurandome harto en la conclusion) que la cantidad de \n",
        "# repitentes en el cluster 2 es mucho mayor que en el cluster 1. Los graficos que indican Assess_Score (ya sea 1, 2, 3, 4 o 5) no se qué significan exactamente. Pero,\n",
        "# se puede observar un comportamiento muy mantenido entre esos graficos y es que el cluster 1 siempre tiene un score mayor que el cluster 2. "
      ],
      "metadata": {
        "id": "39lK8zr_WBye"
      },
      "execution_count": null,
      "outputs": []
    },
    {
      "cell_type": "code",
      "source": [
        "# Como conclusion final, es que los alumnos del cluster 2 parecen necesitar de mas ayuda que los del cluster 1. Ayuda ya sea para aprobar los cursos \n",
        "# o para mejorar su situacion (de acuerdo al imd band) para que rindan mejor. "
      ],
      "metadata": {
        "id": "55PEjy8pWBwX"
      },
      "execution_count": null,
      "outputs": []
    },
    {
      "cell_type": "code",
      "source": [
        "# ***************************************************************************************************************************************************************************\n",
        "# ====================== ********** PARTE 2: INSTRUCCIONES DE MODELADO ********** ====================== # \n",
        "# ***************************************************************************************************************************************************************************"
      ],
      "metadata": {
        "id": "8g-9HV1jWBub"
      },
      "execution_count": null,
      "outputs": []
    },
    {
      "cell_type": "code",
      "source": [
        "# Dado que esta segunda parte consta de una base de datos diferente a la primera, la volveremos a cargar.\n",
        "# No volveremos a cargar las librerias dado que eso queda en el colab. \n",
        "\n",
        "df = pd.read_csv(\"/content/Option_B_modeling.csv\")"
      ],
      "metadata": {
        "id": "Hb4oHOZKdAhl"
      },
      "execution_count": 208,
      "outputs": []
    },
    {
      "cell_type": "code",
      "source": [
        "# Comentan en la pagina del examen que esta base de datos se limpia previamente. De todas formas, no confio jajajaja. Correré los \n",
        "# codigos pero me ahorraré la explicacion, es mas que nada para asegurarme que este todo bien. "
      ],
      "metadata": {
        "id": "T6xUbVtYdAeF"
      },
      "execution_count": null,
      "outputs": []
    },
    {
      "cell_type": "code",
      "source": [
        "df.head()"
      ],
      "metadata": {
        "colab": {
          "base_uri": "https://localhost:8080/",
          "height": 300
        },
        "id": "AMGmi35wdAcI",
        "outputId": "21ce27c5-5eb8-4138-cc84-7694f4132ad9"
      },
      "execution_count": 130,
      "outputs": [
        {
          "output_type": "execute_result",
          "data": {
            "text/plain": [
              "   gender  highest_education  imd_band  age_band  num_of_prev_attempts  \\\n",
              "0       1                  2         9         2                     0   \n",
              "1       0                  2         2         1                     0   \n",
              "2       0                  3         5         1                     0   \n",
              "3       0                  1         5         0                     0   \n",
              "4       1                  2         3         0                     0   \n",
              "\n",
              "   studied_credits  disability  passed_course  assess_score_1  assess_score_2  \\\n",
              "0              240           0              1            78.0            85.0   \n",
              "1               60           0              1            70.0            68.0   \n",
              "2               60           0              1            72.0            71.0   \n",
              "3               60           0              1            69.0            30.0   \n",
              "4               60           0              1            70.0            65.0   \n",
              "\n",
              "   ...  module_CCC  module_DDD  module_EEE  module_FFF  module_GGG  \\\n",
              "0  ...           0           0           0           0           0   \n",
              "1  ...           0           0           0           0           0   \n",
              "2  ...           0           0           0           0           0   \n",
              "3  ...           0           0           0           0           0   \n",
              "4  ...           0           0           0           0           0   \n",
              "\n",
              "   presentation_0  presentation_2013B  presentation_2013J  presentation_2014B  \\\n",
              "0               0                   0                   1                   0   \n",
              "1               0                   0                   1                   0   \n",
              "2               0                   0                   1                   0   \n",
              "3               0                   0                   1                   0   \n",
              "4               0                   0                   1                   0   \n",
              "\n",
              "   presentation_2014J  \n",
              "0                   0  \n",
              "1                   0  \n",
              "2                   0  \n",
              "3                   0  \n",
              "4                   0  \n",
              "\n",
              "[5 rows x 931 columns]"
            ],
            "text/html": [
              "\n",
              "  <div id=\"df-59230705-5caa-4bfc-9a94-4d646c08e529\">\n",
              "    <div class=\"colab-df-container\">\n",
              "      <div>\n",
              "<style scoped>\n",
              "    .dataframe tbody tr th:only-of-type {\n",
              "        vertical-align: middle;\n",
              "    }\n",
              "\n",
              "    .dataframe tbody tr th {\n",
              "        vertical-align: top;\n",
              "    }\n",
              "\n",
              "    .dataframe thead th {\n",
              "        text-align: right;\n",
              "    }\n",
              "</style>\n",
              "<table border=\"1\" class=\"dataframe\">\n",
              "  <thead>\n",
              "    <tr style=\"text-align: right;\">\n",
              "      <th></th>\n",
              "      <th>gender</th>\n",
              "      <th>highest_education</th>\n",
              "      <th>imd_band</th>\n",
              "      <th>age_band</th>\n",
              "      <th>num_of_prev_attempts</th>\n",
              "      <th>studied_credits</th>\n",
              "      <th>disability</th>\n",
              "      <th>passed_course</th>\n",
              "      <th>assess_score_1</th>\n",
              "      <th>assess_score_2</th>\n",
              "      <th>...</th>\n",
              "      <th>module_CCC</th>\n",
              "      <th>module_DDD</th>\n",
              "      <th>module_EEE</th>\n",
              "      <th>module_FFF</th>\n",
              "      <th>module_GGG</th>\n",
              "      <th>presentation_0</th>\n",
              "      <th>presentation_2013B</th>\n",
              "      <th>presentation_2013J</th>\n",
              "      <th>presentation_2014B</th>\n",
              "      <th>presentation_2014J</th>\n",
              "    </tr>\n",
              "  </thead>\n",
              "  <tbody>\n",
              "    <tr>\n",
              "      <th>0</th>\n",
              "      <td>1</td>\n",
              "      <td>2</td>\n",
              "      <td>9</td>\n",
              "      <td>2</td>\n",
              "      <td>0</td>\n",
              "      <td>240</td>\n",
              "      <td>0</td>\n",
              "      <td>1</td>\n",
              "      <td>78.0</td>\n",
              "      <td>85.0</td>\n",
              "      <td>...</td>\n",
              "      <td>0</td>\n",
              "      <td>0</td>\n",
              "      <td>0</td>\n",
              "      <td>0</td>\n",
              "      <td>0</td>\n",
              "      <td>0</td>\n",
              "      <td>0</td>\n",
              "      <td>1</td>\n",
              "      <td>0</td>\n",
              "      <td>0</td>\n",
              "    </tr>\n",
              "    <tr>\n",
              "      <th>1</th>\n",
              "      <td>0</td>\n",
              "      <td>2</td>\n",
              "      <td>2</td>\n",
              "      <td>1</td>\n",
              "      <td>0</td>\n",
              "      <td>60</td>\n",
              "      <td>0</td>\n",
              "      <td>1</td>\n",
              "      <td>70.0</td>\n",
              "      <td>68.0</td>\n",
              "      <td>...</td>\n",
              "      <td>0</td>\n",
              "      <td>0</td>\n",
              "      <td>0</td>\n",
              "      <td>0</td>\n",
              "      <td>0</td>\n",
              "      <td>0</td>\n",
              "      <td>0</td>\n",
              "      <td>1</td>\n",
              "      <td>0</td>\n",
              "      <td>0</td>\n",
              "    </tr>\n",
              "    <tr>\n",
              "      <th>2</th>\n",
              "      <td>0</td>\n",
              "      <td>3</td>\n",
              "      <td>5</td>\n",
              "      <td>1</td>\n",
              "      <td>0</td>\n",
              "      <td>60</td>\n",
              "      <td>0</td>\n",
              "      <td>1</td>\n",
              "      <td>72.0</td>\n",
              "      <td>71.0</td>\n",
              "      <td>...</td>\n",
              "      <td>0</td>\n",
              "      <td>0</td>\n",
              "      <td>0</td>\n",
              "      <td>0</td>\n",
              "      <td>0</td>\n",
              "      <td>0</td>\n",
              "      <td>0</td>\n",
              "      <td>1</td>\n",
              "      <td>0</td>\n",
              "      <td>0</td>\n",
              "    </tr>\n",
              "    <tr>\n",
              "      <th>3</th>\n",
              "      <td>0</td>\n",
              "      <td>1</td>\n",
              "      <td>5</td>\n",
              "      <td>0</td>\n",
              "      <td>0</td>\n",
              "      <td>60</td>\n",
              "      <td>0</td>\n",
              "      <td>1</td>\n",
              "      <td>69.0</td>\n",
              "      <td>30.0</td>\n",
              "      <td>...</td>\n",
              "      <td>0</td>\n",
              "      <td>0</td>\n",
              "      <td>0</td>\n",
              "      <td>0</td>\n",
              "      <td>0</td>\n",
              "      <td>0</td>\n",
              "      <td>0</td>\n",
              "      <td>1</td>\n",
              "      <td>0</td>\n",
              "      <td>0</td>\n",
              "    </tr>\n",
              "    <tr>\n",
              "      <th>4</th>\n",
              "      <td>1</td>\n",
              "      <td>2</td>\n",
              "      <td>3</td>\n",
              "      <td>0</td>\n",
              "      <td>0</td>\n",
              "      <td>60</td>\n",
              "      <td>0</td>\n",
              "      <td>1</td>\n",
              "      <td>70.0</td>\n",
              "      <td>65.0</td>\n",
              "      <td>...</td>\n",
              "      <td>0</td>\n",
              "      <td>0</td>\n",
              "      <td>0</td>\n",
              "      <td>0</td>\n",
              "      <td>0</td>\n",
              "      <td>0</td>\n",
              "      <td>0</td>\n",
              "      <td>1</td>\n",
              "      <td>0</td>\n",
              "      <td>0</td>\n",
              "    </tr>\n",
              "  </tbody>\n",
              "</table>\n",
              "<p>5 rows × 931 columns</p>\n",
              "</div>\n",
              "      <button class=\"colab-df-convert\" onclick=\"convertToInteractive('df-59230705-5caa-4bfc-9a94-4d646c08e529')\"\n",
              "              title=\"Convert this dataframe to an interactive table.\"\n",
              "              style=\"display:none;\">\n",
              "        \n",
              "  <svg xmlns=\"http://www.w3.org/2000/svg\" height=\"24px\"viewBox=\"0 0 24 24\"\n",
              "       width=\"24px\">\n",
              "    <path d=\"M0 0h24v24H0V0z\" fill=\"none\"/>\n",
              "    <path d=\"M18.56 5.44l.94 2.06.94-2.06 2.06-.94-2.06-.94-.94-2.06-.94 2.06-2.06.94zm-11 1L8.5 8.5l.94-2.06 2.06-.94-2.06-.94L8.5 2.5l-.94 2.06-2.06.94zm10 10l.94 2.06.94-2.06 2.06-.94-2.06-.94-.94-2.06-.94 2.06-2.06.94z\"/><path d=\"M17.41 7.96l-1.37-1.37c-.4-.4-.92-.59-1.43-.59-.52 0-1.04.2-1.43.59L10.3 9.45l-7.72 7.72c-.78.78-.78 2.05 0 2.83L4 21.41c.39.39.9.59 1.41.59.51 0 1.02-.2 1.41-.59l7.78-7.78 2.81-2.81c.8-.78.8-2.07 0-2.86zM5.41 20L4 18.59l7.72-7.72 1.47 1.35L5.41 20z\"/>\n",
              "  </svg>\n",
              "      </button>\n",
              "      \n",
              "  <style>\n",
              "    .colab-df-container {\n",
              "      display:flex;\n",
              "      flex-wrap:wrap;\n",
              "      gap: 12px;\n",
              "    }\n",
              "\n",
              "    .colab-df-convert {\n",
              "      background-color: #E8F0FE;\n",
              "      border: none;\n",
              "      border-radius: 50%;\n",
              "      cursor: pointer;\n",
              "      display: none;\n",
              "      fill: #1967D2;\n",
              "      height: 32px;\n",
              "      padding: 0 0 0 0;\n",
              "      width: 32px;\n",
              "    }\n",
              "\n",
              "    .colab-df-convert:hover {\n",
              "      background-color: #E2EBFA;\n",
              "      box-shadow: 0px 1px 2px rgba(60, 64, 67, 0.3), 0px 1px 3px 1px rgba(60, 64, 67, 0.15);\n",
              "      fill: #174EA6;\n",
              "    }\n",
              "\n",
              "    [theme=dark] .colab-df-convert {\n",
              "      background-color: #3B4455;\n",
              "      fill: #D2E3FC;\n",
              "    }\n",
              "\n",
              "    [theme=dark] .colab-df-convert:hover {\n",
              "      background-color: #434B5C;\n",
              "      box-shadow: 0px 1px 3px 1px rgba(0, 0, 0, 0.15);\n",
              "      filter: drop-shadow(0px 1px 2px rgba(0, 0, 0, 0.3));\n",
              "      fill: #FFFFFF;\n",
              "    }\n",
              "  </style>\n",
              "\n",
              "      <script>\n",
              "        const buttonEl =\n",
              "          document.querySelector('#df-59230705-5caa-4bfc-9a94-4d646c08e529 button.colab-df-convert');\n",
              "        buttonEl.style.display =\n",
              "          google.colab.kernel.accessAllowed ? 'block' : 'none';\n",
              "\n",
              "        async function convertToInteractive(key) {\n",
              "          const element = document.querySelector('#df-59230705-5caa-4bfc-9a94-4d646c08e529');\n",
              "          const dataTable =\n",
              "            await google.colab.kernel.invokeFunction('convertToInteractive',\n",
              "                                                     [key], {});\n",
              "          if (!dataTable) return;\n",
              "\n",
              "          const docLinkHtml = 'Like what you see? Visit the ' +\n",
              "            '<a target=\"_blank\" href=https://colab.research.google.com/notebooks/data_table.ipynb>data table notebook</a>'\n",
              "            + ' to learn more about interactive tables.';\n",
              "          element.innerHTML = '';\n",
              "          dataTable['output_type'] = 'display_data';\n",
              "          await google.colab.output.renderOutput(dataTable, element);\n",
              "          const docLink = document.createElement('div');\n",
              "          docLink.innerHTML = docLinkHtml;\n",
              "          element.appendChild(docLink);\n",
              "        }\n",
              "      </script>\n",
              "    </div>\n",
              "  </div>\n",
              "  "
            ]
          },
          "metadata": {},
          "execution_count": 130
        }
      ]
    },
    {
      "cell_type": "code",
      "source": [
        "df.shape # 931 columnas... son muchas"
      ],
      "metadata": {
        "colab": {
          "base_uri": "https://localhost:8080/"
        },
        "id": "XNa2sUZbdAaS",
        "outputId": "c8dae815-23b2-4549-d1db-7b5c529812b1"
      },
      "execution_count": 131,
      "outputs": [
        {
          "output_type": "execute_result",
          "data": {
            "text/plain": [
              "(12737, 931)"
            ]
          },
          "metadata": {},
          "execution_count": 131
        }
      ]
    },
    {
      "cell_type": "code",
      "source": [
        "# df.info() # Claramente no puedo hacer un info con casi 1000 columnas.... "
      ],
      "metadata": {
        "id": "GjqOyFpLdAYQ"
      },
      "execution_count": null,
      "outputs": []
    },
    {
      "cell_type": "code",
      "source": [
        "df.duplicated().sum() # No tenemos duplicados"
      ],
      "metadata": {
        "colab": {
          "base_uri": "https://localhost:8080/"
        },
        "id": "wrfBziD6dAWf",
        "outputId": "3123cffe-f521-44ee-819f-1a0fe71078a0"
      },
      "execution_count": 132,
      "outputs": [
        {
          "output_type": "execute_result",
          "data": {
            "text/plain": [
              "0"
            ]
          },
          "metadata": {},
          "execution_count": 132
        }
      ]
    },
    {
      "cell_type": "code",
      "source": [
        "df.isna().sum().sum() # No hay valores NaN "
      ],
      "metadata": {
        "colab": {
          "base_uri": "https://localhost:8080/"
        },
        "id": "4Wltxx-QdAU7",
        "outputId": "3ef1fbc6-034f-4ede-d1fe-695d75822562"
      },
      "execution_count": 133,
      "outputs": [
        {
          "output_type": "execute_result",
          "data": {
            "text/plain": [
              "0"
            ]
          },
          "metadata": {},
          "execution_count": 133
        }
      ]
    },
    {
      "cell_type": "code",
      "source": [
        "# Supondre, por lo que veo, que son puras columnas integer, o sea de numeros enteros. Ademas, supondre que no hay columnas duplicadas. "
      ],
      "metadata": {
        "id": "N63t7cBSdAS-"
      },
      "execution_count": null,
      "outputs": []
    },
    {
      "cell_type": "code",
      "source": [
        "# Ahora viene la parte de preparar los datos para el modelo:\n",
        "# 1) Primero los vamos a separar en X e y y nuestra variable objetivo de acuerdo a la pagina es passed_course\n",
        "# 2) Segundo vamos a escalar los datos, dado que siempre antes de aplicar el PCA se deben escalar. \n",
        "# 3) Tercero aplicamos PCA\n",
        "# 4) Cuarto vamos a aplicar el train test split. "
      ],
      "metadata": {
        "id": "s3CZpHsgdAQ5"
      },
      "execution_count": null,
      "outputs": []
    },
    {
      "cell_type": "code",
      "source": [
        "df[\"passed_course\"].value_counts() # Esta ya es una variable binaria, numerica. Asi que demosle "
      ],
      "metadata": {
        "colab": {
          "base_uri": "https://localhost:8080/"
        },
        "id": "XXNv3KlwnaBd",
        "outputId": "e61569a5-b5df-4d21-d91f-8bfd2020a3f9"
      },
      "execution_count": 110,
      "outputs": [
        {
          "output_type": "execute_result",
          "data": {
            "text/plain": [
              "1    9720\n",
              "0    3017\n",
              "Name: passed_course, dtype: int64"
            ]
          },
          "metadata": {},
          "execution_count": 110
        }
      ]
    },
    {
      "cell_type": "code",
      "source": [
        "# 1) Separación\n",
        "\n",
        "X = df.drop(columns = 'passed_course')\n",
        "y = df['passed_course'] "
      ],
      "metadata": {
        "id": "LW9puYqtWBnI"
      },
      "execution_count": 209,
      "outputs": []
    },
    {
      "cell_type": "code",
      "source": [
        "# 2) Escalar\n",
        "\n",
        "scaler = StandardScaler()\n",
        "scaled_df = scaler.fit_transform(X)"
      ],
      "metadata": {
        "id": "qQaNqRnvnWk6"
      },
      "execution_count": 210,
      "outputs": []
    },
    {
      "cell_type": "code",
      "source": [
        "# 3) Aplicar PCA\n",
        "\n",
        "pca = PCA()\n",
        "pca.fit(scaled_df)"
      ],
      "metadata": {
        "colab": {
          "base_uri": "https://localhost:8080/",
          "height": 75
        },
        "id": "hLjjTYBbnWiy",
        "outputId": "bc5624e3-5a38-4759-ec68-184d3639f4f7"
      },
      "execution_count": 211,
      "outputs": [
        {
          "output_type": "execute_result",
          "data": {
            "text/plain": [
              "PCA()"
            ],
            "text/html": [
              "<style>#sk-container-id-9 {color: black;background-color: white;}#sk-container-id-9 pre{padding: 0;}#sk-container-id-9 div.sk-toggleable {background-color: white;}#sk-container-id-9 label.sk-toggleable__label {cursor: pointer;display: block;width: 100%;margin-bottom: 0;padding: 0.3em;box-sizing: border-box;text-align: center;}#sk-container-id-9 label.sk-toggleable__label-arrow:before {content: \"▸\";float: left;margin-right: 0.25em;color: #696969;}#sk-container-id-9 label.sk-toggleable__label-arrow:hover:before {color: black;}#sk-container-id-9 div.sk-estimator:hover label.sk-toggleable__label-arrow:before {color: black;}#sk-container-id-9 div.sk-toggleable__content {max-height: 0;max-width: 0;overflow: hidden;text-align: left;background-color: #f0f8ff;}#sk-container-id-9 div.sk-toggleable__content pre {margin: 0.2em;color: black;border-radius: 0.25em;background-color: #f0f8ff;}#sk-container-id-9 input.sk-toggleable__control:checked~div.sk-toggleable__content {max-height: 200px;max-width: 100%;overflow: auto;}#sk-container-id-9 input.sk-toggleable__control:checked~label.sk-toggleable__label-arrow:before {content: \"▾\";}#sk-container-id-9 div.sk-estimator input.sk-toggleable__control:checked~label.sk-toggleable__label {background-color: #d4ebff;}#sk-container-id-9 div.sk-label input.sk-toggleable__control:checked~label.sk-toggleable__label {background-color: #d4ebff;}#sk-container-id-9 input.sk-hidden--visually {border: 0;clip: rect(1px 1px 1px 1px);clip: rect(1px, 1px, 1px, 1px);height: 1px;margin: -1px;overflow: hidden;padding: 0;position: absolute;width: 1px;}#sk-container-id-9 div.sk-estimator {font-family: monospace;background-color: #f0f8ff;border: 1px dotted black;border-radius: 0.25em;box-sizing: border-box;margin-bottom: 0.5em;}#sk-container-id-9 div.sk-estimator:hover {background-color: #d4ebff;}#sk-container-id-9 div.sk-parallel-item::after {content: \"\";width: 100%;border-bottom: 1px solid gray;flex-grow: 1;}#sk-container-id-9 div.sk-label:hover label.sk-toggleable__label {background-color: #d4ebff;}#sk-container-id-9 div.sk-serial::before {content: \"\";position: absolute;border-left: 1px solid gray;box-sizing: border-box;top: 0;bottom: 0;left: 50%;z-index: 0;}#sk-container-id-9 div.sk-serial {display: flex;flex-direction: column;align-items: center;background-color: white;padding-right: 0.2em;padding-left: 0.2em;position: relative;}#sk-container-id-9 div.sk-item {position: relative;z-index: 1;}#sk-container-id-9 div.sk-parallel {display: flex;align-items: stretch;justify-content: center;background-color: white;position: relative;}#sk-container-id-9 div.sk-item::before, #sk-container-id-9 div.sk-parallel-item::before {content: \"\";position: absolute;border-left: 1px solid gray;box-sizing: border-box;top: 0;bottom: 0;left: 50%;z-index: -1;}#sk-container-id-9 div.sk-parallel-item {display: flex;flex-direction: column;z-index: 1;position: relative;background-color: white;}#sk-container-id-9 div.sk-parallel-item:first-child::after {align-self: flex-end;width: 50%;}#sk-container-id-9 div.sk-parallel-item:last-child::after {align-self: flex-start;width: 50%;}#sk-container-id-9 div.sk-parallel-item:only-child::after {width: 0;}#sk-container-id-9 div.sk-dashed-wrapped {border: 1px dashed gray;margin: 0 0.4em 0.5em 0.4em;box-sizing: border-box;padding-bottom: 0.4em;background-color: white;}#sk-container-id-9 div.sk-label label {font-family: monospace;font-weight: bold;display: inline-block;line-height: 1.2em;}#sk-container-id-9 div.sk-label-container {text-align: center;}#sk-container-id-9 div.sk-container {/* jupyter's `normalize.less` sets `[hidden] { display: none; }` but bootstrap.min.css set `[hidden] { display: none !important; }` so we also need the `!important` here to be able to override the default hidden behavior on the sphinx rendered scikit-learn.org. See: https://github.com/scikit-learn/scikit-learn/issues/21755 */display: inline-block !important;position: relative;}#sk-container-id-9 div.sk-text-repr-fallback {display: none;}</style><div id=\"sk-container-id-9\" class=\"sk-top-container\"><div class=\"sk-text-repr-fallback\"><pre>PCA()</pre><b>In a Jupyter environment, please rerun this cell to show the HTML representation or trust the notebook. <br />On GitHub, the HTML representation is unable to render, please try loading this page with nbviewer.org.</b></div><div class=\"sk-container\" hidden><div class=\"sk-item\"><div class=\"sk-estimator sk-toggleable\"><input class=\"sk-toggleable__control sk-hidden--visually\" id=\"sk-estimator-id-17\" type=\"checkbox\" checked><label for=\"sk-estimator-id-17\" class=\"sk-toggleable__label sk-toggleable__label-arrow\">PCA</label><div class=\"sk-toggleable__content\"><pre>PCA()</pre></div></div></div></div></div>"
            ]
          },
          "metadata": {},
          "execution_count": 211
        }
      ]
    },
    {
      "cell_type": "code",
      "source": [
        "# Debemos ahora escoger los componentes, por lo que lo veremos con el grafico que agrega sucesivamente la varianza y el de sedimentacion"
      ],
      "metadata": {
        "id": "qwq3LssAnWdT"
      },
      "execution_count": null,
      "outputs": []
    },
    {
      "cell_type": "code",
      "source": [
        "# Grafico que agrega la varianza porcentual sucesivamente:\n",
        "\n",
        "plt.plot(range(1, 23), pca.explained_variance_ratio_[:22].cumsum(), marker='.')\n",
        "plt.xticks(ticks = range(1, 23), fontsize=8)\n",
        "plt.xlabel('Principal Component')\n",
        "plt.ylabel('Proportion of Explained Variance')"
      ],
      "metadata": {
        "colab": {
          "base_uri": "https://localhost:8080/",
          "height": 462
        },
        "id": "BSiJntMtWBlL",
        "outputId": "6246abbf-4f49-4754-b420-68207e302dc9"
      },
      "execution_count": 155,
      "outputs": [
        {
          "output_type": "execute_result",
          "data": {
            "text/plain": [
              "Text(0, 0.5, 'Proportion of Explained Variance')"
            ]
          },
          "metadata": {},
          "execution_count": 155
        },
        {
          "output_type": "display_data",
          "data": {
            "text/plain": [
              "<Figure size 640x480 with 1 Axes>"
            ],
            "image/png": "[encoded data removed]"
          },
          "metadata": {}
        }
      ]
    },
    {
      "cell_type": "code",
      "source": [
        "# Con ayuda de ChatGPT, cree este grafico que me indica la varianza que se acumulando porcentualmente a medida que vamos agregando las variables (o columnas)\n",
        "# que explican el objetivo. Es normal que la primera variable explique un poco mas que el resto, pero a medida que se van agregando, va disminuyendo la \n",
        "# explicacion agregada que puede otorgar. "
      ],
      "metadata": {
        "id": "8V1FmGxFLeQa"
      },
      "execution_count": null,
      "outputs": []
    },
    {
      "cell_type": "code",
      "source": [
        "# Y nuevamente con ayuda de ChatGPT (perdon ;( jajajajaja) cree el grafico del codo para ver el numero de componentes de debo aplicar en el PCA. "
      ],
      "metadata": {
        "id": "BlgvHMpESNg2"
      },
      "execution_count": null,
      "outputs": []
    },
    {
      "cell_type": "code",
      "source": [
        "sse = [] # Suma de errores cuadrados\n",
        "\n",
        "for k in range(1, 23):\n",
        "    kmeans = KMeans(n_clusters=k, random_state=0)\n",
        "    kmeans.fit(df)\n",
        "    sse.append(kmeans.inertia_)\n",
        "\n",
        "# Graficar el gráfico del codo\n",
        "plt.plot(range(1, 23), sse, marker='o')\n",
        "plt.xlabel('Número de grupos (k)')\n",
        "plt.ylabel('Suma de errores cuadrados')\n",
        "plt.title('Gráfico del Codo')\n",
        "plt.show();"
      ],
      "metadata": {
        "colab": {
          "base_uri": "https://localhost:8080/",
          "height": 1000
        },
        "id": "oW6mCv3V0TJn",
        "outputId": "33180dc6-0d3a-4fdf-ece0-68d727236de8"
      },
      "execution_count": 161,
      "outputs": [
        {
          "output_type": "stream",
          "name": "stderr",
          "text": [
            "/usr/local/lib/python3.10/dist-packages/sklearn/cluster/_kmeans.py:870: FutureWarning: The default value of `n_init` will change from 10 to 'auto' in 1.4. Set the value of `n_init` explicitly to suppress the warning\n",
            "  warnings.warn(\n",
            "/usr/local/lib/python3.10/dist-packages/sklearn/cluster/_kmeans.py:870: FutureWarning: The default value of `n_init` will change from 10 to 'auto' in 1.4. Set the value of `n_init` explicitly to suppress the warning\n",
            "  warnings.warn(\n",
            "/usr/local/lib/python3.10/dist-packages/sklearn/cluster/_kmeans.py:870: FutureWarning: The default value of `n_init` will change from 10 to 'auto' in 1.4. Set the value of `n_init` explicitly to suppress the warning\n",
            "  warnings.warn(\n",
            "/usr/local/lib/python3.10/dist-packages/sklearn/cluster/_kmeans.py:870: FutureWarning: The default value of `n_init` will change from 10 to 'auto' in 1.4. Set the value of `n_init` explicitly to suppress the warning\n",
            "  warnings.warn(\n",
            "/usr/local/lib/python3.10/dist-packages/sklearn/cluster/_kmeans.py:870: FutureWarning: The default value of `n_init` will change from 10 to 'auto' in 1.4. Set the value of `n_init` explicitly to suppress the warning\n",
            "  warnings.warn(\n",
            "/usr/local/lib/python3.10/dist-packages/sklearn/cluster/_kmeans.py:870: FutureWarning: The default value of `n_init` will change from 10 to 'auto' in 1.4. Set the value of `n_init` explicitly to suppress the warning\n",
            "  warnings.warn(\n",
            "/usr/local/lib/python3.10/dist-packages/sklearn/cluster/_kmeans.py:870: FutureWarning: The default value of `n_init` will change from 10 to 'auto' in 1.4. Set the value of `n_init` explicitly to suppress the warning\n",
            "  warnings.warn(\n",
            "/usr/local/lib/python3.10/dist-packages/sklearn/cluster/_kmeans.py:870: FutureWarning: The default value of `n_init` will change from 10 to 'auto' in 1.4. Set the value of `n_init` explicitly to suppress the warning\n",
            "  warnings.warn(\n",
            "/usr/local/lib/python3.10/dist-packages/sklearn/cluster/_kmeans.py:870: FutureWarning: The default value of `n_init` will change from 10 to 'auto' in 1.4. Set the value of `n_init` explicitly to suppress the warning\n",
            "  warnings.warn(\n",
            "/usr/local/lib/python3.10/dist-packages/sklearn/cluster/_kmeans.py:870: FutureWarning: The default value of `n_init` will change from 10 to 'auto' in 1.4. Set the value of `n_init` explicitly to suppress the warning\n",
            "  warnings.warn(\n",
            "/usr/local/lib/python3.10/dist-packages/sklearn/cluster/_kmeans.py:870: FutureWarning: The default value of `n_init` will change from 10 to 'auto' in 1.4. Set the value of `n_init` explicitly to suppress the warning\n",
            "  warnings.warn(\n",
            "/usr/local/lib/python3.10/dist-packages/sklearn/cluster/_kmeans.py:870: FutureWarning: The default value of `n_init` will change from 10 to 'auto' in 1.4. Set the value of `n_init` explicitly to suppress the warning\n",
            "  warnings.warn(\n",
            "/usr/local/lib/python3.10/dist-packages/sklearn/cluster/_kmeans.py:870: FutureWarning: The default value of `n_init` will change from 10 to 'auto' in 1.4. Set the value of `n_init` explicitly to suppress the warning\n",
            "  warnings.warn(\n",
            "/usr/local/lib/python3.10/dist-packages/sklearn/cluster/_kmeans.py:870: FutureWarning: The default value of `n_init` will change from 10 to 'auto' in 1.4. Set the value of `n_init` explicitly to suppress the warning\n",
            "  warnings.warn(\n",
            "/usr/local/lib/python3.10/dist-packages/sklearn/cluster/_kmeans.py:870: FutureWarning: The default value of `n_init` will change from 10 to 'auto' in 1.4. Set the value of `n_init` explicitly to suppress the warning\n",
            "  warnings.warn(\n",
            "/usr/local/lib/python3.10/dist-packages/sklearn/cluster/_kmeans.py:870: FutureWarning: The default value of `n_init` will change from 10 to 'auto' in 1.4. Set the value of `n_init` explicitly to suppress the warning\n",
            "  warnings.warn(\n",
            "/usr/local/lib/python3.10/dist-packages/sklearn/cluster/_kmeans.py:870: FutureWarning: The default value of `n_init` will change from 10 to 'auto' in 1.4. Set the value of `n_init` explicitly to suppress the warning\n",
            "  warnings.warn(\n",
            "/usr/local/lib/python3.10/dist-packages/sklearn/cluster/_kmeans.py:870: FutureWarning: The default value of `n_init` will change from 10 to 'auto' in 1.4. Set the value of `n_init` explicitly to suppress the warning\n",
            "  warnings.warn(\n",
            "/usr/local/lib/python3.10/dist-packages/sklearn/cluster/_kmeans.py:870: FutureWarning: The default value of `n_init` will change from 10 to 'auto' in 1.4. Set the value of `n_init` explicitly to suppress the warning\n",
            "  warnings.warn(\n",
            "/usr/local/lib/python3.10/dist-packages/sklearn/cluster/_kmeans.py:870: FutureWarning: The default value of `n_init` will change from 10 to 'auto' in 1.4. Set the value of `n_init` explicitly to suppress the warning\n",
            "  warnings.warn(\n",
            "/usr/local/lib/python3.10/dist-packages/sklearn/cluster/_kmeans.py:870: FutureWarning: The default value of `n_init` will change from 10 to 'auto' in 1.4. Set the value of `n_init` explicitly to suppress the warning\n",
            "  warnings.warn(\n",
            "/usr/local/lib/python3.10/dist-packages/sklearn/cluster/_kmeans.py:870: FutureWarning: The default value of `n_init` will change from 10 to 'auto' in 1.4. Set the value of `n_init` explicitly to suppress the warning\n",
            "  warnings.warn(\n"
          ]
        },
        {
          "output_type": "display_data",
          "data": {
            "text/plain": [
              "<Figure size 640x480 with 1 Axes>"
            ],
            "image/png": "[encoded data removed]"
          },
          "metadata": {}
        }
      ]
    },
    {
      "cell_type": "code",
      "source": [
        "# Por el metodo del codo podemos observar que el numero de componentes adecuado para el modelo corresponde a 7. Pero para verlo mejor, lo que podriamos hacer \n",
        "# es disminuir la cantidad de componentes totales que muestre el grafico."
      ],
      "metadata": {
        "id": "VnzSLk5E0THR"
      },
      "execution_count": null,
      "outputs": []
    },
    {
      "cell_type": "code",
      "source": [
        "sse = [] # Suma de errores cuadrados\n",
        "\n",
        "for k in range(1, 10):\n",
        "    kmeans = KMeans(n_clusters=k, random_state=0)\n",
        "    kmeans.fit(df)\n",
        "    sse.append(kmeans.inertia_)\n",
        "\n",
        "# Graficar el gráfico del codo\n",
        "plt.plot(range(1, 10), sse, marker='o')\n",
        "plt.xlabel('Número de grupos (k)')\n",
        "plt.ylabel('Suma de errores cuadrados')\n",
        "plt.title('Gráfico del Codo')\n",
        "plt.show();"
      ],
      "metadata": {
        "colab": {
          "base_uri": "https://localhost:8080/",
          "height": 804
        },
        "id": "S7Rb21mj0TFH",
        "outputId": "dcd73825-532f-44bd-b54e-e674e478d145"
      },
      "execution_count": 212,
      "outputs": [
        {
          "output_type": "stream",
          "name": "stderr",
          "text": [
            "/usr/local/lib/python3.10/dist-packages/sklearn/cluster/_kmeans.py:870: FutureWarning: The default value of `n_init` will change from 10 to 'auto' in 1.4. Set the value of `n_init` explicitly to suppress the warning\n",
            "  warnings.warn(\n",
            "/usr/local/lib/python3.10/dist-packages/sklearn/cluster/_kmeans.py:870: FutureWarning: The default value of `n_init` will change from 10 to 'auto' in 1.4. Set the value of `n_init` explicitly to suppress the warning\n",
            "  warnings.warn(\n",
            "/usr/local/lib/python3.10/dist-packages/sklearn/cluster/_kmeans.py:870: FutureWarning: The default value of `n_init` will change from 10 to 'auto' in 1.4. Set the value of `n_init` explicitly to suppress the warning\n",
            "  warnings.warn(\n",
            "/usr/local/lib/python3.10/dist-packages/sklearn/cluster/_kmeans.py:870: FutureWarning: The default value of `n_init` will change from 10 to 'auto' in 1.4. Set the value of `n_init` explicitly to suppress the warning\n",
            "  warnings.warn(\n",
            "/usr/local/lib/python3.10/dist-packages/sklearn/cluster/_kmeans.py:870: FutureWarning: The default value of `n_init` will change from 10 to 'auto' in 1.4. Set the value of `n_init` explicitly to suppress the warning\n",
            "  warnings.warn(\n",
            "/usr/local/lib/python3.10/dist-packages/sklearn/cluster/_kmeans.py:870: FutureWarning: The default value of `n_init` will change from 10 to 'auto' in 1.4. Set the value of `n_init` explicitly to suppress the warning\n",
            "  warnings.warn(\n",
            "/usr/local/lib/python3.10/dist-packages/sklearn/cluster/_kmeans.py:870: FutureWarning: The default value of `n_init` will change from 10 to 'auto' in 1.4. Set the value of `n_init` explicitly to suppress the warning\n",
            "  warnings.warn(\n",
            "/usr/local/lib/python3.10/dist-packages/sklearn/cluster/_kmeans.py:870: FutureWarning: The default value of `n_init` will change from 10 to 'auto' in 1.4. Set the value of `n_init` explicitly to suppress the warning\n",
            "  warnings.warn(\n",
            "/usr/local/lib/python3.10/dist-packages/sklearn/cluster/_kmeans.py:870: FutureWarning: The default value of `n_init` will change from 10 to 'auto' in 1.4. Set the value of `n_init` explicitly to suppress the warning\n",
            "  warnings.warn(\n"
          ]
        },
        {
          "output_type": "display_data",
          "data": {
            "text/plain": [
              "<Figure size 640x480 with 1 Axes>"
            ],
            "image/png": "[encoded data removed]"
          },
          "metadata": {}
        }
      ]
    },
    {
      "cell_type": "code",
      "source": [
        "# Aqui se puede observar con mayor claridad, que el numero de componentes adecuado para el modelo es 7."
      ],
      "metadata": {
        "id": "Gk2vzgqW0TDG"
      },
      "execution_count": null,
      "outputs": []
    },
    {
      "cell_type": "code",
      "source": [
        "# Lo que sigue a continuacion es aplicar el PCA pero con 7 componentes: "
      ],
      "metadata": {
        "id": "QXSq2AiE0TBT"
      },
      "execution_count": null,
      "outputs": []
    },
    {
      "cell_type": "code",
      "source": [
        "pca7 = PCA(n_components=7)\n",
        "X_PCA = pca7.fit_transform(scaled_df)"
      ],
      "metadata": {
        "id": "PhME-d2d3mMq"
      },
      "execution_count": 213,
      "outputs": []
    },
    {
      "cell_type": "code",
      "source": [
        "# Nos piden comparar cuantas columnas estan presentes antes y despues del PCA "
      ],
      "metadata": {
        "id": "vxo_-x6l4sFl"
      },
      "execution_count": null,
      "outputs": []
    },
    {
      "cell_type": "code",
      "source": [
        "X.shape # Antes del PCA"
      ],
      "metadata": {
        "colab": {
          "base_uri": "https://localhost:8080/"
        },
        "id": "MsocHmDH4nGc",
        "outputId": "dad83171-ee4b-4393-b5b6-071f18846889"
      },
      "execution_count": 214,
      "outputs": [
        {
          "output_type": "execute_result",
          "data": {
            "text/plain": [
              "(12737, 930)"
            ]
          },
          "metadata": {},
          "execution_count": 214
        }
      ]
    },
    {
      "cell_type": "code",
      "source": [
        "X_PCA.shape # Despues del PCA"
      ],
      "metadata": {
        "colab": {
          "base_uri": "https://localhost:8080/"
        },
        "id": "dguGH_sI4ph7",
        "outputId": "25096613-8b46-49c9-9b9c-d3c4bf4e26de"
      },
      "execution_count": 215,
      "outputs": [
        {
          "output_type": "execute_result",
          "data": {
            "text/plain": [
              "(12737, 7)"
            ]
          },
          "metadata": {},
          "execution_count": 215
        }
      ]
    },
    {
      "cell_type": "code",
      "source": [
        "# Lo que podemos decir es que el PCA nos ayudo a disminuir drasticamente el numero de columnas de 930 a 7. O sea, una reduccion de 923 columnas. "
      ],
      "metadata": {
        "id": "9nHGj-DT4zEl"
      },
      "execution_count": null,
      "outputs": []
    },
    {
      "cell_type": "code",
      "source": [
        "# Ahora podemos dividir los datos con el test train split\n",
        "\n",
        "X_train, X_test, y_train, y_test = train_test_split(X_PCA, y, random_state=42)"
      ],
      "metadata": {
        "id": "RMbrh1wB3mKi"
      },
      "execution_count": 216,
      "outputs": []
    },
    {
      "cell_type": "code",
      "source": [
        "# Creamos un pipeline. Ya escalamos los datos y este paso es bueno para evitar fugas.\n",
        "\n",
        "transformer = make_pipeline(StandardScaler(), PCA(n_components=7))"
      ],
      "metadata": {
        "id": "iiWczlyd3mGU"
      },
      "execution_count": 217,
      "outputs": []
    },
    {
      "cell_type": "code",
      "source": [
        "# Un pipeline dentro de otro añadiendole la regresion logistica. \n",
        "\n",
        "logreg = LogisticRegression()\n",
        "logreg_pipe = make_pipeline(transformer, logreg)\n",
        "logreg_pipe.fit(X_train, y_train)"
      ],
      "metadata": {
        "colab": {
          "base_uri": "https://localhost:8080/",
          "height": 186
        },
        "id": "TuHNwyjw3mEQ",
        "outputId": "62410476-d595-4ed0-ab78-fff6e021b54a"
      },
      "execution_count": 218,
      "outputs": [
        {
          "output_type": "execute_result",
          "data": {
            "text/plain": [
              "Pipeline(steps=[('pipeline',\n",
              "                 Pipeline(steps=[('standardscaler', StandardScaler()),\n",
              "                                 ('pca', PCA(n_components=7))])),\n",
              "                ('logisticregression', LogisticRegression())])"
            ],
            "text/html": [
              "<style>#sk-container-id-10 {color: black;background-color: white;}#sk-container-id-10 pre{padding: 0;}#sk-container-id-10 div.sk-toggleable {background-color: white;}#sk-container-id-10 label.sk-toggleable__label {cursor: pointer;display: block;width: 100%;margin-bottom: 0;padding: 0.3em;box-sizing: border-box;text-align: center;}#sk-container-id-10 label.sk-toggleable__label-arrow:before {content: \"▸\";float: left;margin-right: 0.25em;color: #696969;}#sk-container-id-10 label.sk-toggleable__label-arrow:hover:before {color: black;}#sk-container-id-10 div.sk-estimator:hover label.sk-toggleable__label-arrow:before {color: black;}#sk-container-id-10 div.sk-toggleable__content {max-height: 0;max-width: 0;overflow: hidden;text-align: left;background-color: #f0f8ff;}#sk-container-id-10 div.sk-toggleable__content pre {margin: 0.2em;color: black;border-radius: 0.25em;background-color: #f0f8ff;}#sk-container-id-10 input.sk-toggleable__control:checked~div.sk-toggleable__content {max-height: 200px;max-width: 100%;overflow: auto;}#sk-container-id-10 input.sk-toggleable__control:checked~label.sk-toggleable__label-arrow:before {content: \"▾\";}#sk-container-id-10 div.sk-estimator input.sk-toggleable__control:checked~label.sk-toggleable__label {background-color: #d4ebff;}#sk-container-id-10 div.sk-label input.sk-toggleable__control:checked~label.sk-toggleable__label {background-color: #d4ebff;}#sk-container-id-10 input.sk-hidden--visually {border: 0;clip: rect(1px 1px 1px 1px);clip: rect(1px, 1px, 1px, 1px);height: 1px;margin: -1px;overflow: hidden;padding: 0;position: absolute;width: 1px;}#sk-container-id-10 div.sk-estimator {font-family: monospace;background-color: #f0f8ff;border: 1px dotted black;border-radius: 0.25em;box-sizing: border-box;margin-bottom: 0.5em;}#sk-container-id-10 div.sk-estimator:hover {background-color: #d4ebff;}#sk-container-id-10 div.sk-parallel-item::after {content: \"\";width: 100%;border-bottom: 1px solid gray;flex-grow: 1;}#sk-container-id-10 div.sk-label:hover label.sk-toggleable__label {background-color: #d4ebff;}#sk-container-id-10 div.sk-serial::before {content: \"\";position: absolute;border-left: 1px solid gray;box-sizing: border-box;top: 0;bottom: 0;left: 50%;z-index: 0;}#sk-container-id-10 div.sk-serial {display: flex;flex-direction: column;align-items: center;background-color: white;padding-right: 0.2em;padding-left: 0.2em;position: relative;}#sk-container-id-10 div.sk-item {position: relative;z-index: 1;}#sk-container-id-10 div.sk-parallel {display: flex;align-items: stretch;justify-content: center;background-color: white;position: relative;}#sk-container-id-10 div.sk-item::before, #sk-container-id-10 div.sk-parallel-item::before {content: \"\";position: absolute;border-left: 1px solid gray;box-sizing: border-box;top: 0;bottom: 0;left: 50%;z-index: -1;}#sk-container-id-10 div.sk-parallel-item {display: flex;flex-direction: column;z-index: 1;position: relative;background-color: white;}#sk-container-id-10 div.sk-parallel-item:first-child::after {align-self: flex-end;width: 50%;}#sk-container-id-10 div.sk-parallel-item:last-child::after {align-self: flex-start;width: 50%;}#sk-container-id-10 div.sk-parallel-item:only-child::after {width: 0;}#sk-container-id-10 div.sk-dashed-wrapped {border: 1px dashed gray;margin: 0 0.4em 0.5em 0.4em;box-sizing: border-box;padding-bottom: 0.4em;background-color: white;}#sk-container-id-10 div.sk-label label {font-family: monospace;font-weight: bold;display: inline-block;line-height: 1.2em;}#sk-container-id-10 div.sk-label-container {text-align: center;}#sk-container-id-10 div.sk-container {/* jupyter's `normalize.less` sets `[hidden] { display: none; }` but bootstrap.min.css set `[hidden] { display: none !important; }` so we also need the `!important` here to be able to override the default hidden behavior on the sphinx rendered scikit-learn.org. See: https://github.com/scikit-learn/scikit-learn/issues/21755 */display: inline-block !important;position: relative;}#sk-container-id-10 div.sk-text-repr-fallback {display: none;}</style><div id=\"sk-container-id-10\" class=\"sk-top-container\"><div class=\"sk-text-repr-fallback\"><pre>Pipeline(steps=[(&#x27;pipeline&#x27;,\n",
              "                 Pipeline(steps=[(&#x27;standardscaler&#x27;, StandardScaler()),\n",
              "                                 (&#x27;pca&#x27;, PCA(n_components=7))])),\n",
              "                (&#x27;logisticregression&#x27;, LogisticRegression())])</pre><b>In a Jupyter environment, please rerun this cell to show the HTML representation or trust the notebook. <br />On GitHub, the HTML representation is unable to render, please try loading this page with nbviewer.org.</b></div><div class=\"sk-container\" hidden><div class=\"sk-item sk-dashed-wrapped\"><div class=\"sk-label-container\"><div class=\"sk-label sk-toggleable\"><input class=\"sk-toggleable__control sk-hidden--visually\" id=\"sk-estimator-id-18\" type=\"checkbox\" ><label for=\"sk-estimator-id-18\" class=\"sk-toggleable__label sk-toggleable__label-arrow\">Pipeline</label><div class=\"sk-toggleable__content\"><pre>Pipeline(steps=[(&#x27;pipeline&#x27;,\n",
              "                 Pipeline(steps=[(&#x27;standardscaler&#x27;, StandardScaler()),\n",
              "                                 (&#x27;pca&#x27;, PCA(n_components=7))])),\n",
              "                (&#x27;logisticregression&#x27;, LogisticRegression())])</pre></div></div></div><div class=\"sk-serial\"><div class=\"sk-item\"><div class=\"sk-label-container\"><div class=\"sk-label sk-toggleable\"><input class=\"sk-toggleable__control sk-hidden--visually\" id=\"sk-estimator-id-19\" type=\"checkbox\" ><label for=\"sk-estimator-id-19\" class=\"sk-toggleable__label sk-toggleable__label-arrow\">pipeline: Pipeline</label><div class=\"sk-toggleable__content\"><pre>Pipeline(steps=[(&#x27;standardscaler&#x27;, StandardScaler()),\n",
              "                (&#x27;pca&#x27;, PCA(n_components=7))])</pre></div></div></div><div class=\"sk-serial\"><div class=\"sk-item\"><div class=\"sk-estimator sk-toggleable\"><input class=\"sk-toggleable__control sk-hidden--visually\" id=\"sk-estimator-id-20\" type=\"checkbox\" ><label for=\"sk-estimator-id-20\" class=\"sk-toggleable__label sk-toggleable__label-arrow\">StandardScaler</label><div class=\"sk-toggleable__content\"><pre>StandardScaler()</pre></div></div></div><div class=\"sk-item\"><div class=\"sk-estimator sk-toggleable\"><input class=\"sk-toggleable__control sk-hidden--visually\" id=\"sk-estimator-id-21\" type=\"checkbox\" ><label for=\"sk-estimator-id-21\" class=\"sk-toggleable__label sk-toggleable__label-arrow\">PCA</label><div class=\"sk-toggleable__content\"><pre>PCA(n_components=7)</pre></div></div></div></div></div><div class=\"sk-item\"><div class=\"sk-estimator sk-toggleable\"><input class=\"sk-toggleable__control sk-hidden--visually\" id=\"sk-estimator-id-22\" type=\"checkbox\" ><label for=\"sk-estimator-id-22\" class=\"sk-toggleable__label sk-toggleable__label-arrow\">LogisticRegression</label><div class=\"sk-toggleable__content\"><pre>LogisticRegression()</pre></div></div></div></div></div></div></div>"
            ]
          },
          "metadata": {},
          "execution_count": 218
        }
      ]
    },
    {
      "cell_type": "code",
      "source": [
        "print('Training accuracy:', logreg_pipe.score(X_train, y_train))\n",
        "print('Testing accuracy:', logreg_pipe.score(X_test, y_test))"
      ],
      "metadata": {
        "colab": {
          "base_uri": "https://localhost:8080/"
        },
        "id": "oYFJVFWN3mCZ",
        "outputId": "3bcf94d8-56ec-4cbe-b2e2-9b351d6e72b9"
      },
      "execution_count": 220,
      "outputs": [
        {
          "output_type": "stream",
          "name": "stdout",
          "text": [
            "Training accuracy: 0.826214405360134\n",
            "Testing accuracy: 0.8298273155416013\n"
          ]
        }
      ]
    },
    {
      "cell_type": "code",
      "source": [
        "# Pasamos de tener 930 columnas a 7 columnas y el modelo se sigue explicando super bien, con un accuracy de un 83%. "
      ],
      "metadata": {
        "id": "4dn1dw373mAW"
      },
      "execution_count": null,
      "outputs": []
    },
    {
      "cell_type": "code",
      "source": [
        "# Ahora, iremos mas profundo. Vamos en el paso 6 de la segunda parte donde se nos pide usar un modelo de aprendizaje profundo para predecir qué estudiantes \n",
        "# aprobarán y cuales no. Para ello debo crear 3 versiones diferentes de un modelo secuencial. Veamos: "
      ],
      "metadata": {
        "id": "7lBP8g8h3l-f"
      },
      "execution_count": null,
      "outputs": []
    },
    {
      "cell_type": "code",
      "source": [
        "# Debemos definir nuestra estructura de red. Tenemos 7 columnas, por lo que ese será el maximo de neuronas en la primera capa. \n",
        "\n",
        "input_shape = X_train.shape[1]\n",
        "input_shape"
      ],
      "metadata": {
        "colab": {
          "base_uri": "https://localhost:8080/"
        },
        "id": "sHjQOCBH6j6W",
        "outputId": "37085118-f78c-43b1-a488-62ded5f73248"
      },
      "execution_count": 221,
      "outputs": [
        {
          "output_type": "execute_result",
          "data": {
            "text/plain": [
              "7"
            ]
          },
          "metadata": {},
          "execution_count": 221
        }
      ]
    },
    {
      "cell_type": "code",
      "source": [
        "# En el examen, nos piden que utilicemos un modelo secuencial:\n",
        "\n",
        "model = Sequential()"
      ],
      "metadata": {
        "id": "RaaszU7E6jqN"
      },
      "execution_count": 222,
      "outputs": []
    },
    {
      "cell_type": "code",
      "source": [
        "# Tambien, nos comentan que debemos crear 3 versiones diferentes de un modelo secuencial. "
      ],
      "metadata": {
        "id": "U4K3Vm2BCoMd"
      },
      "execution_count": null,
      "outputs": []
    },
    {
      "cell_type": "code",
      "source": [
        "# =========== Primera version: ==========="
      ],
      "metadata": {
        "id": "ayFM47RWCufO"
      },
      "execution_count": null,
      "outputs": []
    },
    {
      "cell_type": "code",
      "source": [
        "# Primera capa oculta\n",
        "model.add(Dense(7, # Tengo 7 neuronas en mi primera capa \n",
        "                input_dim = input_shape,\n",
        "                activation = 'relu')) \n",
        "# Capa de salida\n",
        "model.add(Dense(1, activation = 'sigmoid'))"
      ],
      "metadata": {
        "id": "ALUFtPIr6joH"
      },
      "execution_count": 223,
      "outputs": []
    },
    {
      "cell_type": "code",
      "source": [
        "# Las 7 neuronas de la primera capa, es el maximo a utilizar dado el numero de columnas que poseo despues de hacer el PCA. "
      ],
      "metadata": {
        "id": "b4u05Sc9_Qz0"
      },
      "execution_count": 203,
      "outputs": []
    },
    {
      "cell_type": "code",
      "source": [
        "# Paso 2: Compilar \n",
        "\n",
        "model.compile(loss = 'bce', optimizer = 'adam')"
      ],
      "metadata": {
        "id": "JFgtDzPx6jly"
      },
      "execution_count": 224,
      "outputs": []
    },
    {
      "cell_type": "code",
      "source": [
        "# Esta compilacion utiliza la perdida de entropia cruzada binaria (bce) porque es un problema de clasificacion binaria. \n",
        "# Recordemos que la pregunta en un inicio es si el alumno aprobara o no el curso (problema binario)."
      ],
      "metadata": {
        "id": "w8oR0GuY_kb3"
      },
      "execution_count": null,
      "outputs": []
    },
    {
      "cell_type": "code",
      "source": [
        "# Paso 3: Ajustar el modelo \n",
        "\n",
        "history = model.fit(X_train, y_train,\n",
        "                    validation_data = (X_test, y_test), \n",
        "                    epochs=10)"
      ],
      "metadata": {
        "colab": {
          "base_uri": "https://localhost:8080/"
        },
        "id": "jU05xkwK_iJz",
        "outputId": "95b4d9ba-59eb-4ee4-f8b8-d4485dee2e86"
      },
      "execution_count": 225,
      "outputs": [
        {
          "output_type": "stream",
          "name": "stdout",
          "text": [
            "Epoch 1/10\n",
            "299/299 [==============================] - 1s 2ms/step - loss: 0.7834 - val_loss: 0.5605\n",
            "Epoch 2/10\n",
            "299/299 [==============================] - 1s 2ms/step - loss: 0.5223 - val_loss: 0.5049\n",
            "Epoch 3/10\n",
            "299/299 [==============================] - 1s 2ms/step - loss: 0.4832 - val_loss: 0.4793\n",
            "Epoch 4/10\n",
            "299/299 [==============================] - 0s 2ms/step - loss: 0.4598 - val_loss: 0.4614\n",
            "Epoch 5/10\n",
            "299/299 [==============================] - 1s 2ms/step - loss: 0.4444 - val_loss: 0.4486\n",
            "Epoch 6/10\n",
            "299/299 [==============================] - 0s 2ms/step - loss: 0.4331 - val_loss: 0.4388\n",
            "Epoch 7/10\n",
            "299/299 [==============================] - 1s 2ms/step - loss: 0.4251 - val_loss: 0.4320\n",
            "Epoch 8/10\n",
            "299/299 [==============================] - 1s 2ms/step - loss: 0.4187 - val_loss: 0.4244\n",
            "Epoch 9/10\n",
            "299/299 [==============================] - 1s 2ms/step - loss: 0.4139 - val_loss: 0.4190\n",
            "Epoch 10/10\n",
            "299/299 [==============================] - 1s 2ms/step - loss: 0.4101 - val_loss: 0.4142\n"
          ]
        }
      ]
    },
    {
      "cell_type": "code",
      "source": [
        "# Visualizamos el resultado\n",
        "\n",
        "plt.plot(history.history['loss'], label='Train loss')\n",
        "plt.plot(history.history['val_loss'], label='Test Loss')\n",
        "plt.legend();"
      ],
      "metadata": {
        "colab": {
          "base_uri": "https://localhost:8080/",
          "height": 433
        },
        "id": "46yv5EGz6jhv",
        "outputId": "62a05dce-9ec9-46c3-de5b-8ed894a61dc0"
      },
      "execution_count": 226,
      "outputs": [
        {
          "output_type": "display_data",
          "data": {
            "text/plain": [
              "<Figure size 640x480 with 1 Axes>"
            ],
            "image/png": "[encoded data removed]"
          },
          "metadata": {}
        }
      ]
    },
    {
      "cell_type": "code",
      "source": [
        "# La linea azul es la perdida de entrenamiento y la linea naranja es la perdida de prueba. Lo que queremos (y conseguimos) es que ambas perdidas\n",
        "# disminuyan lo mas cerca posible de 0. Cuanto menor sea nuestra perdida, mejor será nuestro modelo. "
      ],
      "metadata": {
        "id": "svhFZyRREaQY"
      },
      "execution_count": null,
      "outputs": []
    },
    {
      "cell_type": "code",
      "source": [
        "# Lo que haremos a continuacion, será evaluar el modelo con algunas metricas, para ver que tan bueno es:"
      ],
      "metadata": {
        "id": "AEgLz6WUFlfN"
      },
      "execution_count": null,
      "outputs": []
    },
    {
      "cell_type": "code",
      "source": [
        "# Metrica 1: Loss"
      ],
      "metadata": {
        "id": "vGOqDBKHFldU"
      },
      "execution_count": null,
      "outputs": []
    },
    {
      "cell_type": "code",
      "source": [
        "loss = model.evaluate(X_test, y_test)\n",
        "loss"
      ],
      "metadata": {
        "colab": {
          "base_uri": "https://localhost:8080/"
        },
        "id": "AOMzgMTUFlbg",
        "outputId": "99f246ab-eaf8-403e-c703-d0d07168ef3c"
      },
      "execution_count": 236,
      "outputs": [
        {
          "output_type": "stream",
          "name": "stdout",
          "text": [
            "100/100 [==============================] - 0s 2ms/step - loss: 0.4222\n"
          ]
        },
        {
          "output_type": "execute_result",
          "data": {
            "text/plain": [
              "0.4221791923046112"
            ]
          },
          "metadata": {},
          "execution_count": 236
        }
      ]
    },
    {
      "cell_type": "code",
      "source": [
        "# La metrica loss nos indica la discrepancia que hay entre las predicciones del modelo y los valores reales. En este caso, la metrica loss nos dio un valor\n",
        "# de 0.422 lo que significa que en promedio, el modelo tiene una discrepancia de alrededor de 0.42 entre las predicciones y los valores reales. "
      ],
      "metadata": {
        "id": "nK7ay1O5FlaR"
      },
      "execution_count": null,
      "outputs": []
    },
    {
      "cell_type": "code",
      "source": [
        "# Metrica 2: recall"
      ],
      "metadata": {
        "id": "XeE5jmXyFlYA"
      },
      "execution_count": null,
      "outputs": []
    },
    {
      "cell_type": "code",
      "source": [
        "# Obtener las predicciones del modelo\n",
        "y_pred = model.predict(X_test)\n",
        "\n",
        "# Redondear las predicciones a la clase correspondiente\n",
        "y_pred_rounded = np.round(y_pred)\n",
        "\n",
        "# Calcular el recall\n",
        "recall = recall_score(y_test, y_pred_rounded)\n",
        "\n",
        "recall"
      ],
      "metadata": {
        "colab": {
          "base_uri": "https://localhost:8080/"
        },
        "id": "IZj264BUJPR-",
        "outputId": "fa57eb40-6a6e-4352-f34a-d26781a7187e"
      },
      "execution_count": 245,
      "outputs": [
        {
          "output_type": "stream",
          "name": "stdout",
          "text": [
            "100/100 [==============================] - 0s 3ms/step\n"
          ]
        },
        {
          "output_type": "execute_result",
          "data": {
            "text/plain": [
              "0.9486967314853124"
            ]
          },
          "metadata": {},
          "execution_count": 245
        }
      ]
    },
    {
      "cell_type": "code",
      "source": [
        "# Con ayuda de Chat GPT, obtenemos el valor de la metrica recall, la cual es 0.9486. Este valor es super favorable para nosotros dado que a medida\n",
        "# que la metrica recall arroje un valor mas alto, es porque el modelo puede identificar la mayoria de las muestras positivas. "
      ],
      "metadata": {
        "id": "DCe5pReOJPPi"
      },
      "execution_count": null,
      "outputs": []
    },
    {
      "cell_type": "code",
      "source": [
        "# Metrica 3: Accuracy"
      ],
      "metadata": {
        "id": "1eQMzpl4GOXT"
      },
      "execution_count": null,
      "outputs": []
    },
    {
      "cell_type": "code",
      "source": [
        "# Obtener las predicciones del modelo\n",
        "y_pred = model.predict(X_test)\n",
        "\n",
        "# Redondear las predicciones a la clase correspondiente\n",
        "y_pred_rounded = np.round(y_pred)\n",
        "\n",
        "# Calcular la precisión\n",
        "accuracy = accuracy_score(y_test, y_pred_rounded)\n",
        "\n",
        "accuracy"
      ],
      "metadata": {
        "colab": {
          "base_uri": "https://localhost:8080/"
        },
        "id": "VASjUrdFGOVM",
        "outputId": "396f2fc8-5289-4947-8fc9-2ef6023ef72c"
      },
      "execution_count": 247,
      "outputs": [
        {
          "output_type": "stream",
          "name": "stdout",
          "text": [
            "100/100 [==============================] - 0s 1ms/step\n"
          ]
        },
        {
          "output_type": "execute_result",
          "data": {
            "text/plain": [
              "0.8427001569858713"
            ]
          },
          "metadata": {},
          "execution_count": 247
        }
      ]
    },
    {
      "cell_type": "code",
      "source": [
        "# Y por ultimo, la tercera metrica corresponde a la accuracy. Esta, nos indica la proporcion de muestras correctamente clasificadas en relacion\n",
        "# con el total de muestras. Dado que nuevo valor es de 0.8427, tenemos que el modelo esta clasificando muy bien la mayoria de la muestra. "
      ],
      "metadata": {
        "id": "J87-NNxiGOTW"
      },
      "execution_count": null,
      "outputs": []
    },
    {
      "cell_type": "code",
      "source": [
        "# =========== Segunda version: ==========="
      ],
      "metadata": {
        "id": "kN-CBs4JDaHN"
      },
      "execution_count": null,
      "outputs": []
    },
    {
      "cell_type": "code",
      "source": [
        "# Primera capa oculta\n",
        "model.add(Dense(7, # Tengo 7 neuronas en mi primera capa\n",
        "                input_dim = input_shape,\n",
        "                activation = 'relu')) \n",
        "# Segunda capa oculta\n",
        "model.add(Dense(5, # Tengo 5 neuronas en mi segunda capa.\n",
        "                activation = 'relu'))\n",
        "# Capa de salida\n",
        "model.add(Dense(1, activation = 'sigmoid'))"
      ],
      "metadata": {
        "id": "up89Lb7FDe08"
      },
      "execution_count": 248,
      "outputs": []
    },
    {
      "cell_type": "code",
      "source": [
        "# Lo que hice aqui fue agregar una segunda capa de 5 neuronas. Escogí 5 porque es el numero que mejor se adapta a los resultados que quiero.\n",
        "# Probe con los demas numeros y me daban resultados feos. "
      ],
      "metadata": {
        "id": "2rk2dzUTKkRm"
      },
      "execution_count": null,
      "outputs": []
    },
    {
      "cell_type": "code",
      "source": [
        "# Paso 2: Compilar \n",
        "\n",
        "model.compile(loss = 'bce', optimizer = 'adam')"
      ],
      "metadata": {
        "id": "ZRjG8hm5DezQ"
      },
      "execution_count": 249,
      "outputs": []
    },
    {
      "cell_type": "code",
      "source": [
        "# Paso 3: Ajustar el modelo \n",
        "\n",
        "history = model.fit(X_train, y_train,\n",
        "                    validation_data = (X_test, y_test), \n",
        "                    epochs=10)"
      ],
      "metadata": {
        "colab": {
          "base_uri": "https://localhost:8080/"
        },
        "id": "mW4-nA9VDexr",
        "outputId": "f27e24b4-dd22-4e46-d607-ac2c182568ae"
      },
      "execution_count": 250,
      "outputs": [
        {
          "output_type": "stream",
          "name": "stdout",
          "text": [
            "Epoch 1/10\n",
            "299/299 [==============================] - 2s 3ms/step - loss: 0.5988 - val_loss: 0.4991\n",
            "Epoch 2/10\n",
            "299/299 [==============================] - 1s 3ms/step - loss: 0.4782 - val_loss: 0.4689\n",
            "Epoch 3/10\n",
            "299/299 [==============================] - 1s 2ms/step - loss: 0.4544 - val_loss: 0.4485\n",
            "Epoch 4/10\n",
            "299/299 [==============================] - 1s 2ms/step - loss: 0.4431 - val_loss: 0.4428\n",
            "Epoch 5/10\n",
            "299/299 [==============================] - 1s 2ms/step - loss: 0.4371 - val_loss: 0.4419\n",
            "Epoch 6/10\n",
            "299/299 [==============================] - 1s 2ms/step - loss: 0.4328 - val_loss: 0.4347\n",
            "Epoch 7/10\n",
            "299/299 [==============================] - 1s 2ms/step - loss: 0.4296 - val_loss: 0.4272\n",
            "Epoch 8/10\n",
            "299/299 [==============================] - 1s 2ms/step - loss: 0.4261 - val_loss: 0.4243\n",
            "Epoch 9/10\n",
            "299/299 [==============================] - 1s 2ms/step - loss: 0.4233 - val_loss: 0.4224\n",
            "Epoch 10/10\n",
            "299/299 [==============================] - 1s 2ms/step - loss: 0.4208 - val_loss: 0.4206\n"
          ]
        }
      ]
    },
    {
      "cell_type": "code",
      "source": [
        "# Visualizamos el resultado\n",
        "\n",
        "plt.plot(history.history['loss'], label='Train loss')\n",
        "plt.plot(history.history['val_loss'], label='Test Loss')\n",
        "plt.legend();"
      ],
      "metadata": {
        "colab": {
          "base_uri": "https://localhost:8080/",
          "height": 430
        },
        "id": "Tb2c3BMlDev-",
        "outputId": "59b64be0-673b-4bd2-9a1d-a88b81dc40d3"
      },
      "execution_count": 251,
      "outputs": [
        {
          "output_type": "display_data",
          "data": {
            "text/plain": [
              "<Figure size 640x480 with 1 Axes>"
            ],
            "image/png": "[encoded data removed]"
          },
          "metadata": {}
        }
      ]
    },
    {
      "cell_type": "code",
      "source": [
        "# Tenemos que ahora, la perdida es mayor, lo cual significa que al haber agregado una segunda capa oculta, es mucho mejor para el modelo. Y tanto el \n",
        "# train loss como el test loss, se acoplan al final de la curva, lo que nos indica que se comportan de la misma manera en esa instancia, lo cual tambien es bueno."
      ],
      "metadata": {
        "id": "qVnGQxxMK4qN"
      },
      "execution_count": null,
      "outputs": []
    },
    {
      "cell_type": "code",
      "source": [
        "# Lo que haremos a continuacion, por segunda vez, será evaluar el modelo con algunas metricas, para ver que tan bueno es:"
      ],
      "metadata": {
        "id": "xE-6LE4uLLbB"
      },
      "execution_count": null,
      "outputs": []
    },
    {
      "cell_type": "code",
      "source": [
        "# Metrica 1: Loss"
      ],
      "metadata": {
        "id": "kVTb6zu3LOia"
      },
      "execution_count": null,
      "outputs": []
    },
    {
      "cell_type": "code",
      "source": [
        "loss = model.evaluate(X_test, y_test)\n",
        "loss"
      ],
      "metadata": {
        "colab": {
          "base_uri": "https://localhost:8080/"
        },
        "id": "De4aSAfCLOg2",
        "outputId": "f9c9e94d-8097-470e-e536-a88a5d0304f8"
      },
      "execution_count": 252,
      "outputs": [
        {
          "output_type": "stream",
          "name": "stdout",
          "text": [
            "100/100 [==============================] - 0s 1ms/step - loss: 0.4206\n"
          ]
        },
        {
          "output_type": "execute_result",
          "data": {
            "text/plain": [
              "0.4206239879131317"
            ]
          },
          "metadata": {},
          "execution_count": 252
        }
      ]
    },
    {
      "cell_type": "code",
      "source": [
        "# En este caso, versus el anterior, el rendimiento del modelo mejoro un poquito. Antes teniamos un valor de 0.422 y ahora es un valor de 0.420, lo \n",
        "# que implica una mejora, muy pequeña, pero mejora al fin y al cabo. (el significado e interpretacion ya lo di antes, no lo daré ahora ni mas\n",
        "# adelante para no ser tan repititiva. Solo comparare resultados y dire si mejoro o no)."
      ],
      "metadata": {
        "id": "9ZujETGWLOfA"
      },
      "execution_count": null,
      "outputs": []
    },
    {
      "cell_type": "code",
      "source": [
        "# Metrica 2: recall"
      ],
      "metadata": {
        "id": "vfDPHe1ALOdO"
      },
      "execution_count": null,
      "outputs": []
    },
    {
      "cell_type": "code",
      "source": [
        "# Obtener las predicciones del modelo\n",
        "y_pred = model.predict(X_test)\n",
        "\n",
        "# Redondear las predicciones a la clase correspondiente\n",
        "y_pred_rounded = np.round(y_pred)\n",
        "\n",
        "# Calcular el recall\n",
        "recall = recall_score(y_test, y_pred_rounded)\n",
        "\n",
        "recall"
      ],
      "metadata": {
        "colab": {
          "base_uri": "https://localhost:8080/"
        },
        "id": "PkbGPzljLObp",
        "outputId": "02f728ca-22c2-43b1-f9cb-209840bbf488"
      },
      "execution_count": 253,
      "outputs": [
        {
          "output_type": "stream",
          "name": "stdout",
          "text": [
            "100/100 [==============================] - 0s 1ms/step\n"
          ]
        },
        {
          "output_type": "execute_result",
          "data": {
            "text/plain": [
              "0.9515928837401738"
            ]
          },
          "metadata": {},
          "execution_count": 253
        }
      ]
    },
    {
      "cell_type": "code",
      "source": [
        "# Al igual que en el caso anterior, podemos ver esta metrica recall, al haber agregado una capa con 5 neuronas, mejoro. Antes, el valor era de 0.9486\n",
        "# y ahora es de 0.9515. O sea que mejoró, el modelo logra identificar de mejor manera la mayoria de las muestras positivas. "
      ],
      "metadata": {
        "id": "nllwLEyuMEOV"
      },
      "execution_count": null,
      "outputs": []
    },
    {
      "cell_type": "code",
      "source": [
        "# Metrica 3: Accuracy"
      ],
      "metadata": {
        "id": "tqX6N6abLOXh"
      },
      "execution_count": null,
      "outputs": []
    },
    {
      "cell_type": "code",
      "source": [
        "# Obtener las predicciones del modelo\n",
        "y_pred = model.predict(X_test)\n",
        "\n",
        "# Redondear las predicciones a la clase correspondiente\n",
        "y_pred_rounded = np.round(y_pred)\n",
        "\n",
        "# Calcular la precisión\n",
        "accuracy = accuracy_score(y_test, y_pred_rounded)\n",
        "\n",
        "accuracy"
      ],
      "metadata": {
        "colab": {
          "base_uri": "https://localhost:8080/"
        },
        "id": "6NCi0F57LcNi",
        "outputId": "8254fdda-d4d9-4745-ba5e-fba6fe6e3f03"
      },
      "execution_count": 254,
      "outputs": [
        {
          "output_type": "stream",
          "name": "stdout",
          "text": [
            "100/100 [==============================] - 0s 940us/step\n"
          ]
        },
        {
          "output_type": "execute_result",
          "data": {
            "text/plain": [
              "0.8458398744113029"
            ]
          },
          "metadata": {},
          "execution_count": 254
        }
      ]
    },
    {
      "cell_type": "code",
      "source": [
        "# Antes, el valor del accuracy era de 0.8427 y ahora es de 0.8458. De la misma forma que antes, esta metrica indica que el modelo mejoró en cuanto a la \n",
        "# clasificacion que le da a la mayoria de los alumnos (en si aprobo o no), versus al modelo sin la segunda capa de 5 neuronas. "
      ],
      "metadata": {
        "id": "4ZHN-s6tLcKB"
      },
      "execution_count": null,
      "outputs": []
    },
    {
      "cell_type": "code",
      "source": [
        "# =========== Tercera version: ==========="
      ],
      "metadata": {
        "id": "2SD40uxaDet5"
      },
      "execution_count": null,
      "outputs": []
    },
    {
      "cell_type": "code",
      "source": [
        "# Agregamos una regularizacion\n",
        "\n",
        "model = keras.Sequential([\n",
        "    layers.Dense(7, \n",
        "                 input_dim=input_shape, \n",
        "                 activation='relu', \n",
        "                 kernel_regularizer=regularizers.l2(0.01)),\n",
        "    layers.Dense(5, \n",
        "                 activation='relu', \n",
        "                 kernel_regularizer=regularizers.l2(0.01)),\n",
        "    layers.Dense(1, \n",
        "                 activation='sigmoid')\n",
        "])"
      ],
      "metadata": {
        "id": "G4npF9JM6jfz"
      },
      "execution_count": 255,
      "outputs": []
    },
    {
      "cell_type": "code",
      "source": [
        "# Aqui aplique la regularizacion L2 para controlar el sobreajuste por si hubiera algun coeficiente demasiado grande dentro del modelo. \n",
        "# Otra razon por la que aplique el L2 es porque quiero que el modelo no sea tan sensible a las variaciones pequeñas de los datos de entrenamiento,\n",
        "# porque estamos trabajando con un gran volumen de datos y la idea es que el modelo se mantenga lo mas estable posible para obtener buenas predicciones. \n",
        "# Ahora, veremos si realmente cumple las expectativas antes propuestas, cuando miremos las metricas. "
      ],
      "metadata": {
        "id": "fxHRfxJwQQqH"
      },
      "execution_count": null,
      "outputs": []
    },
    {
      "cell_type": "code",
      "source": [
        "# Paso 2: Compilar \n",
        "\n",
        "model.compile(loss = 'bce', optimizer = 'adam')"
      ],
      "metadata": {
        "id": "Fg_j3FCW6jds"
      },
      "execution_count": 256,
      "outputs": []
    },
    {
      "cell_type": "code",
      "source": [
        "# Paso 3: Ajustar el modelo \n",
        "\n",
        "history = model.fit(X_train, y_train,\n",
        "                    validation_data = (X_test, y_test), \n",
        "                    epochs=10)"
      ],
      "metadata": {
        "colab": {
          "base_uri": "https://localhost:8080/"
        },
        "id": "0yzU1hS36jb2",
        "outputId": "b9c6c474-7594-401e-b56c-2cc1be5161a6"
      },
      "execution_count": 257,
      "outputs": [
        {
          "output_type": "stream",
          "name": "stdout",
          "text": [
            "Epoch 1/10\n",
            "299/299 [==============================] - 1s 2ms/step - loss: 0.7014 - val_loss: 0.5981\n",
            "Epoch 2/10\n",
            "299/299 [==============================] - 1s 3ms/step - loss: 0.5572 - val_loss: 0.5259\n",
            "Epoch 3/10\n",
            "299/299 [==============================] - 1s 2ms/step - loss: 0.5027 - val_loss: 0.4927\n",
            "Epoch 4/10\n",
            "299/299 [==============================] - 1s 2ms/step - loss: 0.4764 - val_loss: 0.4712\n",
            "Epoch 5/10\n",
            "299/299 [==============================] - 1s 2ms/step - loss: 0.4597 - val_loss: 0.4560\n",
            "Epoch 6/10\n",
            "299/299 [==============================] - 1s 2ms/step - loss: 0.4480 - val_loss: 0.4464\n",
            "Epoch 7/10\n",
            "299/299 [==============================] - 1s 2ms/step - loss: 0.4391 - val_loss: 0.4378\n",
            "Epoch 8/10\n",
            "299/299 [==============================] - 1s 2ms/step - loss: 0.4329 - val_loss: 0.4322\n",
            "Epoch 9/10\n",
            "299/299 [==============================] - 1s 2ms/step - loss: 0.4280 - val_loss: 0.4284\n",
            "Epoch 10/10\n",
            "299/299 [==============================] - 1s 2ms/step - loss: 0.4242 - val_loss: 0.4251\n"
          ]
        }
      ]
    },
    {
      "cell_type": "code",
      "source": [
        "# Visualizamos el resultado\n",
        "\n",
        "plt.plot(history.history['loss'], label='Train loss')\n",
        "plt.plot(history.history['val_loss'], label='Test Loss')\n",
        "plt.legend();"
      ],
      "metadata": {
        "colab": {
          "base_uri": "https://localhost:8080/",
          "height": 430
        },
        "id": "EbC27Vt46jaC",
        "outputId": "0383db4c-ec9e-4210-f783-bf6411e8ada0"
      },
      "execution_count": 258,
      "outputs": [
        {
          "output_type": "display_data",
          "data": {
            "text/plain": [
              "<Figure size 640x480 with 1 Axes>"
            ],
            "image/png": "[encoded data removed]"
          },
          "metadata": {}
        }
      ]
    },
    {
      "cell_type": "code",
      "source": [
        "# La perdida pareciera no ser mayor que en el resto de las versiones del modelo. Es alrededor del 0.425, que es exactamente el mismo numero de las otras dos versiones. \n",
        "# Lo que tiene de interesante este modelo es que el train loss y el test lost se ajustan o se acomplan mucho antes que en el resto de las versiones, lo cual es bueno\n",
        "# porque buscamos que tengan el mismo comportamiento (para no tener un sobre ajuste o sub ajuste). Por lo tanto, se podría decir que mejoramos, porque el valor de la perdida\n",
        "# se mantiene, pero el modelo entre el train y el test se asemejan mas. "
      ],
      "metadata": {
        "id": "Uk5XcNkn6jWU"
      },
      "execution_count": null,
      "outputs": []
    },
    {
      "cell_type": "code",
      "source": [
        "# Lo que haremos a continuacion, por tercera y ultima vez, será evaluar el modelo con algunas metricas, para ver que tan bueno es:"
      ],
      "metadata": {
        "id": "nu2xWSAF6jTi"
      },
      "execution_count": null,
      "outputs": []
    },
    {
      "cell_type": "code",
      "source": [
        "# Metrica 1: Loss"
      ],
      "metadata": {
        "id": "cPF6eB-30S5x"
      },
      "execution_count": null,
      "outputs": []
    },
    {
      "cell_type": "code",
      "source": [
        "loss = model.evaluate(X_test, y_test)\n",
        "loss"
      ],
      "metadata": {
        "colab": {
          "base_uri": "https://localhost:8080/"
        },
        "id": "kByp-J7wN2xQ",
        "outputId": "06829916-9c13-4449-eb9a-6d35ef28a167"
      },
      "execution_count": 259,
      "outputs": [
        {
          "output_type": "stream",
          "name": "stdout",
          "text": [
            "100/100 [==============================] - 0s 1ms/step - loss: 0.4251\n"
          ]
        },
        {
          "output_type": "execute_result",
          "data": {
            "text/plain": [
              "0.42510586977005005"
            ]
          },
          "metadata": {},
          "execution_count": 259
        }
      ]
    },
    {
      "cell_type": "code",
      "source": [
        "# El valor de la metrica loss aumentó levemente con respecto a la version 1 y 2, lo cual, no es bueno. Hasta ahora, de acuerdo a esta metrica, \n",
        "# la mejor version de modelo es el 2. Que haya aumentado el loss significa que aumentaron las discrepancias entre las predicciones y los valores\n",
        "# reales, lo cual dice que nuestro modelo empeoro en cuanto a su capacidad predictiva. "
      ],
      "metadata": {
        "id": "cfYNlZ_DN2vJ"
      },
      "execution_count": null,
      "outputs": []
    },
    {
      "cell_type": "code",
      "source": [
        "# Metrica 2: recall"
      ],
      "metadata": {
        "id": "iQig8QOdN2s9"
      },
      "execution_count": null,
      "outputs": []
    },
    {
      "cell_type": "code",
      "source": [
        "# Obtener las predicciones del modelo\n",
        "y_pred = model.predict(X_test)\n",
        "\n",
        "# Redondear las predicciones a la clase correspondiente\n",
        "y_pred_rounded = np.round(y_pred)\n",
        "\n",
        "# Calcular el recall\n",
        "recall = recall_score(y_test, y_pred_rounded)\n",
        "\n",
        "recall"
      ],
      "metadata": {
        "colab": {
          "base_uri": "https://localhost:8080/"
        },
        "id": "4dx9yVYqN2q8",
        "outputId": "dfa6008f-6aa0-4cb4-9988-5c89ef68c531"
      },
      "execution_count": 260,
      "outputs": [
        {
          "output_type": "stream",
          "name": "stdout",
          "text": [
            "100/100 [==============================] - 0s 1ms/step\n"
          ]
        },
        {
          "output_type": "execute_result",
          "data": {
            "text/plain": [
              "0.9470417873396773"
            ]
          },
          "metadata": {},
          "execution_count": 260
        }
      ]
    },
    {
      "cell_type": "code",
      "source": [
        "# Al igual que en el caso anterior, al parecer, haber agragado el regularizador L2 no fue buena idea. Es segunda metrica que nos empeora el modelo. \n",
        "# Antes, en la version 1 el valor era de 0.9486, en la version 2 era de 0.9515 y en esta es de 0.9470. Es la peor version de las tres por segunda \n",
        "# metrica consecutiva. "
      ],
      "metadata": {
        "id": "w0uBjucqN2o3"
      },
      "execution_count": null,
      "outputs": []
    },
    {
      "cell_type": "code",
      "source": [
        "# Metrica 3: Accuracy"
      ],
      "metadata": {
        "id": "uMNj7ZT0N2nQ"
      },
      "execution_count": null,
      "outputs": []
    },
    {
      "cell_type": "code",
      "source": [
        "# Obtener las predicciones del modelo\n",
        "y_pred = model.predict(X_test)\n",
        "\n",
        "# Redondear las predicciones a la clase correspondiente\n",
        "y_pred_rounded = np.round(y_pred)\n",
        "\n",
        "# Calcular la precisión\n",
        "accuracy = accuracy_score(y_test, y_pred_rounded)\n",
        "\n",
        "accuracy"
      ],
      "metadata": {
        "colab": {
          "base_uri": "https://localhost:8080/"
        },
        "id": "jqyb3LbGN2lT",
        "outputId": "3898eb1f-b437-4f11-ff5f-3ec378c01366"
      },
      "execution_count": 261,
      "outputs": [
        {
          "output_type": "stream",
          "name": "stdout",
          "text": [
            "100/100 [==============================] - 0s 977us/step\n"
          ]
        },
        {
          "output_type": "execute_result",
          "data": {
            "text/plain": [
              "0.8436420722135007"
            ]
          },
          "metadata": {},
          "execution_count": 261
        }
      ]
    },
    {
      "cell_type": "code",
      "source": [
        "# Aqui tenemos algo diferente. Si bien esta metrica empeoro en comparacion con la segunda version del modelo, con respecto a la primera, esta metrica esta \n",
        "# levemente mejor. Si comparamos los datos son V1: 0.8427, V2: 0.8458 y V3: 0.8436. Recordar que para esta metrica, mientras mas alto nos de el valor, \n",
        "# significa que esta version del modelo tiene una mejor precision lo cual implica que la clasificacion que hace para saber si el alumno aprueba o no, es buena,\n",
        "# pero no tanto como en la segunda version. "
      ],
      "metadata": {
        "id": "iMQVXRubPFjn"
      },
      "execution_count": null,
      "outputs": []
    },
    {
      "cell_type": "code",
      "source": [
        "# =================== Parte final del examen ==================="
      ],
      "metadata": {
        "id": "D-2qF0XCN2hb"
      },
      "execution_count": null,
      "outputs": []
    },
    {
      "cell_type": "code",
      "source": [
        "# El modelo final que escogeré será el de la version 2. De acuerdo a las metricas que observamos, la version 2 es la que tiene mejores valores en las \n",
        "# metricas evaluadas lo cual implica que el modelo en la version 2 explica super bien las predicciones realizadas (de acuerdo con la muestra de entrenamiento).\n",
        "# El modelo final (el que escogí como modelo final) ya fue medido con multiples metricas... "
      ],
      "metadata": {
        "id": "pNUFaTfuN2fZ"
      },
      "execution_count": null,
      "outputs": []
    },
    {
      "cell_type": "code",
      "source": [
        "# Las caracteristicas del modelo version 2 en comparacion con las demas versiones son las siguientes: "
      ],
      "metadata": {
        "id": "p7wVm-abN2dY"
      },
      "execution_count": null,
      "outputs": []
    },
    {
      "cell_type": "code",
      "source": [
        "# Metrica.          Version 1          Version 2          Version 3\n",
        "\n",
        "# Loss               0.4221.            0.4206.             0.4251\n",
        "# Recall.            0.9486.            0.9515.             0.9470\n",
        "# Accuracy.          0.8427.            0.8458.             0.8436.  "
      ],
      "metadata": {
        "id": "Lu13X_XpN2bq"
      },
      "execution_count": 262,
      "outputs": []
    },
    {
      "cell_type": "code",
      "source": [
        "# La segunda version del modelo (la que contenia tres capas de 7, 5 y 1 neurona(s), pero que no contenia el regularizador L2) es mejor en todos las \n",
        "# metricas con respecto a la version 1 y 2. Podemos ver que el loss es menor en la version 2, tanto si lo comparamos con la version 1 como con la 3. Esto es bueno \n",
        "# porque significa que la perdida es menor, lo cual implica que el modelo es bueno. En cuanto al recall, la idea de este, es que sea mayor dado que mientras mas alto \n",
        "# es el valor de la metrica, significa que el modelo puede identificar mejor las muestras positivas. Dado que queremos un alto grado de clasificacion correcto, es que \n",
        "# concluimos que la version 2 del modelo es la mejor. Hasta ahora, la version 2 es la mejor tanto por loss como por recall, vamos por la tercera metrica. Esta es la \n",
        "# accuracy o presicion. La presicion del modelo es importante que sea alto dado que es la metrica que nos indica que el modelo esta clasificando correctamente la\n",
        "# mayoria de las muestras (si aprueba o no el curso). La version 2 del modelo sigue superando a la version 1 y 3, por lo que su poder predictivo (y correcto) \n",
        "# para saber qué estudiante aprobará el curso o no, es super alto. Mi modelo explicará super bien el problema comercial. "
      ],
      "metadata": {
        "id": "z28WQ_0JN2Z3"
      },
      "execution_count": null,
      "outputs": []
    },
    {
      "cell_type": "code",
      "source": [
        "# Constanza García Osses X.X "
      ],
      "metadata": {
        "id": "EcM6PK5EN2Xx"
      },
      "execution_count": null,
      "outputs": []
    }
  ]
}